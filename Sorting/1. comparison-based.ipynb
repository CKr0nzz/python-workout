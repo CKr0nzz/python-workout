{
 "cells": [
  {
   "metadata": {},
   "cell_type": "markdown",
   "source": [
    "# Algorithmes de comparaison\n",
    "1. Tri à bulles,\n",
    "2. Tri par sélection,\n",
    "3. Tri par insertion.\n",
    "\n",
    "Ces trois algorithmes sont dit \"comparatifs\" car ils comparent des paires d'éléments d'un tableau et décide de les permuter ou non\n",
    "\n",
    "Ce sont les plus simples à implémenter, mais pas les plus efficaces, car ils fonctionnent en O(N2)."
   ],
   "id": "961a5dcb8f8d2ee4"
  },
  {
   "metadata": {
    "ExecuteTime": {
     "end_time": "2025-08-09T01:02:02.112439Z",
     "start_time": "2025-08-09T01:02:02.110586Z"
    }
   },
   "cell_type": "code",
   "source": [
    "## Bubble sort\n",
    "\n",
    "def bubble_sort(lst):\n",
    "    for i in range(len(lst)):\n",
    "        for j in range(len(lst) - i - 1):\n",
    "            if lst[j] > lst[j + 1]:\n",
    "                lst[j], lst[j + 1] = lst[j + 1], lst[j]\n",
    "    return lst\n"
   ],
   "id": "850c830232350c7d",
   "outputs": [],
   "execution_count": 7
  },
  {
   "metadata": {
    "ExecuteTime": {
     "end_time": "2025-08-09T01:02:02.400686Z",
     "start_time": "2025-08-09T01:02:02.398849Z"
    }
   },
   "cell_type": "code",
   "source": "print(bubble_sort([5,8,2,1,0,3]))",
   "id": "a4fe3656f1f9348d",
   "outputs": [
    {
     "name": "stdout",
     "output_type": "stream",
     "text": [
      "[0, 1, 2, 3, 5, 8]\n"
     ]
    }
   ],
   "execution_count": 8
  },
  {
   "metadata": {},
   "cell_type": "code",
   "outputs": [],
   "execution_count": null,
   "source": "",
   "id": "511cbc519df6fbbe"
  }
 ],
 "metadata": {
  "kernelspec": {
   "display_name": "Python 3",
   "language": "python",
   "name": "python3"
  },
  "language_info": {
   "codemirror_mode": {
    "name": "ipython",
    "version": 2
   },
   "file_extension": ".py",
   "mimetype": "text/x-python",
   "name": "python",
   "nbconvert_exporter": "python",
   "pygments_lexer": "ipython2",
   "version": "2.7.6"
  }
 },
 "nbformat": 4,
 "nbformat_minor": 5
}
