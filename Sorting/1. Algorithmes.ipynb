{
 "cells": [
  {
   "metadata": {},
   "cell_type": "markdown",
   "source": [
    "# Algorithmes\n",
    "1. **Algorithmes de tri**\n",
    "- Tri à bulles, $O(N^2)$\n",
    "- Tri par sélection, $O(N^2)$\n",
    "- Tri par insertion\n",
    "- Quicksort\n",
    "- Merge sort (tri fusion)\n",
    "- Heap sort → O(n log n)\n",
    "\n",
    "2. **Algorithmes de recherche**\n",
    "- Recherche linéaire → O(n) (simple, pas besoin que ce soit trié)\n",
    "- Recherche dichotomique (Binary search) → O(log n) (liste triée)\n",
    "\n",
    "3. **Algorithmes sur graphes**\n",
    "- BFS (Breadth-First Search)\n",
    "- DFS (Depth-First Search)\n",
    "- Dijkstra\n",
    "- A*\n",
    "- Kruskal / Prim\n",
    "\n",
    "4. **Algorithmes de programmation dynamique**\n",
    "- Fibonacci optimisé\n",
    "- Problème du sac à dos (Knapsack)\n",
    "- Recherche d’alignement (edit distance, Levenshtein)\n",
    "\n",
    "5. **Algorithmes de traitement de données**\n",
    "- Hachage\n",
    "- Comptage\n",
    "- Radix sort\n",
    "\n",
    "6. **Algorithmes de machine learning classiques**\n",
    "- K-means (clustering)\n",
    "- KNN (k plus proches voisins)\n",
    "- Régression linéaire / logistique\n",
    "- Arbres de décision\n",
    "\n",
    "## BIG O\n",
    "$O(1)$ - Temps constant:\n",
    "Combien d’étapes ? Toujours 1, peu importe n.\n",
    "Ex : accéder à lst[42] ou calculer a+b.\n",
    "\n",
    "$O(log n)$ - Logarithmique:\n",
    "Combien de fois puis-je diviser n par 2 avant d’arriver à 1 ?\n",
    "Ex : recherche dichotomique, algos qui réduisent le problème par un facteur constant.\n",
    "\n",
    "$O(n)$ - Linéaire:\n",
    "Combien d’étapes si je dois traiter chaque élément une fois ?\n",
    "Ex : parcourir une liste, trouver le max/min en scannant tous les éléments.\n",
    "\n",
    "$O(n log n)$ - Quasi-linéaire:\n",
    "Combien d’étapes si je fais n choses, et que chacune prend log n étapes ?\n",
    "Ex : tris efficaces (quicksort, mergesort).\n",
    "\n",
    "$O(n^2)$ - Quadratique:\n",
    "Combien d’étapes si je compare chaque élément avec tous les autres ?\n",
    "Ex : double boucle imbriquée, tri à bulles, tri par insertion.\n",
    "\n",
    "$O(2^n)$ - Exponentiel:\n",
    "Combien d’étapes si je double le travail pour chaque élément ajouté ?\n",
    "Ex : résoudre naïvement le problème du voyageur de commerce, génération brute de toutes les combinaisons possibles.\n",
    "\n",
    "$O(n!)$ - Factoriel:\n",
    "Combien d’étapes si je teste toutes les permutations possibles ?\n",
    "Ex : algos qui essaient tous les ordres possibles d’une liste (comme certaines recherches exhaustives)."
   ],
   "id": "eaa27fe3dc2efe72"
  },
  {
   "metadata": {},
   "cell_type": "markdown",
   "source": [
    "## Algorithmes de comparaison\n",
    "1. Tri à bulles, $O(N^2)$\n",
    "2. Tri par sélection, $O(N^2)$\n",
    "3. Tri par insertion.\n",
    "\n",
    "Ces trois algorithmes sont dit \"comparatifs\" car ils comparent des paires d'éléments d'un tableau et décide de les permuter ou non\n",
    "\n",
    "Ce sont les plus simples à implémenter, mais pas les plus efficaces, car ils fonctionnent en O(N2)."
   ],
   "id": "64d78f19f074cced"
  },
  {
   "metadata": {
    "ExecuteTime": {
     "end_time": "2025-08-10T18:19:38.077869Z",
     "start_time": "2025-08-10T18:19:38.076115Z"
    }
   },
   "cell_type": "code",
   "source": [
    "# Bubble sort\n",
    "def bubble_sort(lst):\n",
    "    for i in range(len(lst)):\n",
    "        for j in range(len(lst)- i - 1):\n",
    "            if lst[j] > lst[j + 1]:\n",
    "                lst[j], lst[j + 1] = lst[j + 1], lst[j]\n",
    "    return lst\n"
   ],
   "id": "ffc3fd86585edbf7",
   "outputs": [],
   "execution_count": 61
  },
  {
   "metadata": {
    "ExecuteTime": {
     "end_time": "2025-08-10T18:19:38.253646Z",
     "start_time": "2025-08-10T18:19:38.252016Z"
    }
   },
   "cell_type": "code",
   "source": "print(bubble_sort([0,44,667,2]))",
   "id": "16df4c15b45ee627",
   "outputs": [
    {
     "name": "stdout",
     "output_type": "stream",
     "text": [
      "[0, 2, 44, 667]\n"
     ]
    }
   ],
   "execution_count": 62
  },
  {
   "metadata": {
    "ExecuteTime": {
     "end_time": "2025-08-10T18:19:38.550346Z",
     "start_time": "2025-08-10T18:19:38.548557Z"
    }
   },
   "cell_type": "code",
   "source": [
    "# Selection sort\n",
    "def selection_sort(lst):\n",
    "    for i in range(len(lst)):\n",
    "        min_index = i\n",
    "        for j in range(i + 1,len(lst)):\n",
    "            if lst[i] > lst[j]:\n",
    "                min_index = j\n",
    "        lst[i], lst[min_index] = lst[min_index], lst[i]\n",
    "    return lst"
   ],
   "id": "2a8bee26d3505e7c",
   "outputs": [],
   "execution_count": 63
  },
  {
   "metadata": {
    "ExecuteTime": {
     "end_time": "2025-08-10T18:19:38.867631Z",
     "start_time": "2025-08-10T18:19:38.865971Z"
    }
   },
   "cell_type": "code",
   "source": "print(selection_sort([0,34,6,4]))",
   "id": "da0e82d1835f66d4",
   "outputs": [
    {
     "name": "stdout",
     "output_type": "stream",
     "text": [
      "[0, 4, 6, 34]\n"
     ]
    }
   ],
   "execution_count": 64
  },
  {
   "metadata": {},
   "cell_type": "code",
   "outputs": [],
   "execution_count": null,
   "source": "",
   "id": "7c0d72e5cf02ff1d"
  }
 ],
 "metadata": {
  "kernelspec": {
   "display_name": "Python 3",
   "language": "python",
   "name": "python3"
  },
  "language_info": {
   "codemirror_mode": {
    "name": "ipython",
    "version": 2
   },
   "file_extension": ".py",
   "mimetype": "text/x-python",
   "name": "python",
   "nbconvert_exporter": "python",
   "pygments_lexer": "ipython2",
   "version": "2.7.6"
  }
 },
 "nbformat": 4,
 "nbformat_minor": 5
}
