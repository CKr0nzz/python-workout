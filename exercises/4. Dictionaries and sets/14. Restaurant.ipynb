{
 "cells": [
  {
   "cell_type": "code",
   "id": "initial_id",
   "metadata": {
    "collapsed": true,
    "ExecuteTime": {
     "end_time": "2025-09-17T00:39:17.903286Z",
     "start_time": "2025-09-17T00:39:17.901132Z"
    }
   },
   "source": [
    "# In this exercise, I want you to create a new constant dict, called MENU, representing\n",
    "# the possible items you can order at a restaurant. The keys will be strings, and the val-\n",
    "# ues will be prices (i.e., integers). You should then write a function, restaurant, that\n",
    "# asks the user to enter an order:\n",
    "#  If the user enters the name of a dish on the menu, the program prints the price\n",
    "# and the running total. It then asks the user again for their order.\n",
    "#  If the user enters the name of a dish not on the menu, the program scolds the\n",
    "# user (mildly). It then asks the user again for their order.\n",
    "#  If the user enters an empty string, the program stops prompting and prints the\n",
    "# total amount.\n",
    "\n",
    "MENU = {\n",
    "    'hotdog': 2,\n",
    "    'hamburger': 5,\n",
    "    'frites': 1,\n",
    "}\n",
    "\n",
    "\n",
    "def order():\n",
    "    total = 0\n",
    "    while True:\n",
    "        choix = input(\"Que voulez-vous manger ?\").strip()\n",
    "        if not choix:\n",
    "            break\n",
    "        if choix in MENU:\n",
    "            total += MENU[choix]\n",
    "            print(f'Le prix de {choix} est {MENU[choix]} $)')\n",
    "            print(f'Total de la commande = {total}')\n",
    "        else:\n",
    "            print(\"C'est pas sur le menu, batard!\")\n",
    "    print(f\"Le total de la commandest: {total} $\")\n",
    "\n",
    "\n"
   ],
   "outputs": [],
   "execution_count": 9
  },
  {
   "metadata": {
    "ExecuteTime": {
     "end_time": "2025-09-17T00:39:33.319479Z",
     "start_time": "2025-09-17T00:39:18.366889Z"
    }
   },
   "cell_type": "code",
   "source": "order()",
   "id": "5e26cfa1ce1c00dc",
   "outputs": [
    {
     "name": "stdout",
     "output_type": "stream",
     "text": [
      "Le prix de hamburger est 5 $)\n",
      "Total de la commande = 5\n",
      "Le prix de hotdog est 2 $)\n",
      "Total de la commande = 7\n",
      "C'est pas sur le menu, batard!\n",
      "Le total de la commandest: 7 $\n"
     ]
    }
   ],
   "execution_count": 10
  },
  {
   "metadata": {
    "ExecuteTime": {
     "end_time": "2025-09-21T23:49:00.508796Z",
     "start_time": "2025-09-21T23:48:50.981356Z"
    }
   },
   "cell_type": "code",
   "source": [
    "# Create a dict in which the keys are usernames and the values are passwords,\n",
    "# both represented as strings. Create a tiny login system, in which the user must\n",
    "# enter a username and password. If there is a match, then indicate that the user\n",
    "# has successfully logged in. If not, then refuse them entry.\n",
    "\n",
    "logins = {\n",
    "    \"Kate\": \"love\",\n",
    "    \"Dade\": \"sex\",\n",
    "    \"Paul\": \"secret\",\n",
    "    \"Cereal\": \"god\"\n",
    "}\n",
    "\n",
    "def loginSystem(logins):\n",
    "    while True:\n",
    "        username = input(\"Username?\")\n",
    "        password = input(\"Password?\")\n",
    "        if (username, password) in logins.items():\n",
    "            print(\"successfully logged in\")\n",
    "            break\n",
    "        else:\n",
    "            print(\"invalid login\")\n",
    "\n",
    "\n",
    "loginSystem(logins)"
   ],
   "id": "ad23ac6c07ea38b6",
   "outputs": [
    {
     "name": "stdout",
     "output_type": "stream",
     "text": [
      "invalid login\n",
      "invalid login\n",
      "successfully logged in\n"
     ]
    }
   ],
   "execution_count": 3
  },
  {
   "metadata": {
    "ExecuteTime": {
     "end_time": "2025-10-07T00:57:22.071393Z",
     "start_time": "2025-10-07T00:57:08.366824Z"
    }
   },
   "cell_type": "code",
   "source": [
    "# Define a dict whose keys are dates (represented by strings) from the most recent\n",
    "# week and whose values are temperatures. Ask the user to enter a date, and dis-\n",
    "# play the temperature on that date, as well as the previous and subsequent dates,\n",
    "# if available.\n",
    "\n",
    "dates = {\n",
    "    \"2024-08-09\":\"29\",\n",
    "    \"2024-08-10\":\"28\",\n",
    "    \"2024-08-11\":\"27\",\n",
    "    \"2024-08-12\":\"26\",\n",
    "}\n",
    "\n",
    "def dictDates(dictDates):\n",
    "    ordered_dates = sorted(dictDates.keys())\n",
    "    while True:\n",
    "        date = input(\"Entrez la date avec le format YYYY-MM-DD (ou vide pour quitter)\")\n",
    "        if not date:\n",
    "            print(\"FIN\")\n",
    "            break\n",
    "        if date in dictDates:\n",
    "            idx = ordered_dates.index(date)  # Position de la date\n",
    "            print(f\"la temp à cette date est de: {dictDates[date]} celcius\")\n",
    "            if idx > 0:\n",
    "                prev_date = ordered_dates[idx-1]\n",
    "                print(f\"la temp à la date précédente est de: {dictDates[prev_date]} celcius\")\n",
    "            if idx < len(ordered_dates)-1:\n",
    "                next_date = ordered_dates[idx+1]\n",
    "                print(f\"la temp à la date suivante est de: {dictDates[next_date]} celcius\")\n",
    "\n",
    "\n",
    "dictDates(dates)\n",
    "\n",
    "\n"
   ],
   "id": "e6fa8683f860204f",
   "outputs": [
    {
     "name": "stdout",
     "output_type": "stream",
     "text": [
      "la temp à cette date est de: 28 celcius\n",
      "la temp à la date précédente est de: 29 celcius\n",
      "la temp à la date suivante est de: 27 celcius\n",
      "FIN\n"
     ]
    }
   ],
   "execution_count": 4
  },
  {
   "metadata": {
    "ExecuteTime": {
     "end_time": "2025-10-07T00:57:05.375792Z",
     "start_time": "2025-10-07T00:57:05.374575Z"
    }
   },
   "cell_type": "code",
   "source": "",
   "id": "14a683b4d963df2b",
   "outputs": [],
   "execution_count": null
  },
  {
   "metadata": {},
   "cell_type": "code",
   "outputs": [],
   "execution_count": null,
   "source": "",
   "id": "30bad5d879317faa"
  }
 ],
 "metadata": {
  "kernelspec": {
   "display_name": "Python 3",
   "language": "python",
   "name": "python3"
  },
  "language_info": {
   "codemirror_mode": {
    "name": "ipython",
    "version": 2
   },
   "file_extension": ".py",
   "mimetype": "text/x-python",
   "name": "python",
   "nbconvert_exporter": "python",
   "pygments_lexer": "ipython2",
   "version": "2.7.6"
  }
 },
 "nbformat": 4,
 "nbformat_minor": 5
}
