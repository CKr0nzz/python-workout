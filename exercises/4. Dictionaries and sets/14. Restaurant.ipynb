{
 "cells": [
  {
   "cell_type": "code",
   "id": "initial_id",
   "metadata": {
    "collapsed": true,
    "ExecuteTime": {
     "end_time": "2025-09-17T00:39:17.903286Z",
     "start_time": "2025-09-17T00:39:17.901132Z"
    }
   },
   "source": [
    "# In this exercise, I want you to create a new constant dict, called MENU, representing\n",
    "# the possible items you can order at a restaurant. The keys will be strings, and the val-\n",
    "# ues will be prices (i.e., integers). You should then write a function, restaurant, that\n",
    "# asks the user to enter an order:\n",
    "#  If the user enters the name of a dish on the menu, the program prints the price\n",
    "# and the running total. It then asks the user again for their order.\n",
    "#  If the user enters the name of a dish not on the menu, the program scolds the\n",
    "# user (mildly). It then asks the user again for their order.\n",
    "#  If the user enters an empty string, the program stops prompting and prints the\n",
    "# total amount.\n",
    "\n",
    "MENU = {\n",
    "    'hotdog': 2,\n",
    "    'hamburger': 5,\n",
    "    'frites': 1,\n",
    "}\n",
    "\n",
    "\n",
    "def order():\n",
    "    total = 0\n",
    "    while True:\n",
    "        choix = input(\"Que voulez-vous manger ?\").strip()\n",
    "        if not choix:\n",
    "            break\n",
    "        if choix in MENU:\n",
    "            total += MENU[choix]\n",
    "            print(f'Le prix de {choix} est {MENU[choix]} $)')\n",
    "            print(f'Total de la commande = {total}')\n",
    "        else:\n",
    "            print(\"C'est pas sur le menu, batard!\")\n",
    "    print(f\"Le total de la commandest: {total} $\")\n",
    "\n",
    "\n"
   ],
   "outputs": [],
   "execution_count": 9
  },
  {
   "metadata": {
    "ExecuteTime": {
     "end_time": "2025-09-17T00:39:33.319479Z",
     "start_time": "2025-09-17T00:39:18.366889Z"
    }
   },
   "cell_type": "code",
   "source": "order()",
   "id": "5e26cfa1ce1c00dc",
   "outputs": [
    {
     "name": "stdout",
     "output_type": "stream",
     "text": [
      "Le prix de hamburger est 5 $)\n",
      "Total de la commande = 5\n",
      "Le prix de hotdog est 2 $)\n",
      "Total de la commande = 7\n",
      "C'est pas sur le menu, batard!\n",
      "Le total de la commandest: 7 $\n"
     ]
    }
   ],
   "execution_count": 10
  },
  {
   "metadata": {
    "ExecuteTime": {
     "end_time": "2025-09-21T23:49:00.508796Z",
     "start_time": "2025-09-21T23:48:50.981356Z"
    }
   },
   "cell_type": "code",
   "source": [
    "# Create a dict in which the keys are usernames and the values are passwords,\n",
    "# both represented as strings. Create a tiny login system, in which the user must\n",
    "# enter a username and password. If there is a match, then indicate that the user\n",
    "# has successfully logged in. If not, then refuse them entry.\n",
    "\n",
    "logins = {\n",
    "    \"Kate\": \"love\",\n",
    "    \"Dade\": \"sex\",\n",
    "    \"Paul\": \"secret\",\n",
    "    \"Cereal\": \"god\"\n",
    "}\n",
    "\n",
    "def loginSystem(logins):\n",
    "    while True:\n",
    "        username = input(\"Username?\")\n",
    "        password = input(\"Password?\")\n",
    "        if (username, password) in logins.items():\n",
    "            print(\"successfully logged in\")\n",
    "            break\n",
    "        else:\n",
    "            print(\"invalid login\")\n",
    "\n",
    "\n",
    "loginSystem(logins)"
   ],
   "id": "ad23ac6c07ea38b6",
   "outputs": [
    {
     "name": "stdout",
     "output_type": "stream",
     "text": [
      "invalid login\n",
      "invalid login\n",
      "successfully logged in\n"
     ]
    }
   ],
   "execution_count": 3
  },
  {
   "metadata": {},
   "cell_type": "code",
   "outputs": [],
   "execution_count": null,
   "source": "",
   "id": "e6fa8683f860204f"
  }
 ],
 "metadata": {
  "kernelspec": {
   "display_name": "Python 3",
   "language": "python",
   "name": "python3"
  },
  "language_info": {
   "codemirror_mode": {
    "name": "ipython",
    "version": 2
   },
   "file_extension": ".py",
   "mimetype": "text/x-python",
   "name": "python",
   "nbconvert_exporter": "python",
   "pygments_lexer": "ipython2",
   "version": "2.7.6"
  }
 },
 "nbformat": 4,
 "nbformat_minor": 5
}
