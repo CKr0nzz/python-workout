{
 "cells": [
  {
   "cell_type": "code",
   "id": "initial_id",
   "metadata": {
    "collapsed": true,
    "ExecuteTime": {
     "end_time": "2025-07-08T00:17:11.312879Z",
     "start_time": "2025-07-08T00:17:11.310247Z"
    }
   },
   "source": [
    "def mysum(*numbers):\n",
    "    somme = 0\n",
    "    for number in numbers :\n",
    "        somme += number\n",
    "    return somme\n",
    "\n"
   ],
   "outputs": [],
   "execution_count": 1
  },
  {
   "metadata": {
    "ExecuteTime": {
     "end_time": "2025-07-08T00:17:42.661314Z",
     "start_time": "2025-07-08T00:17:42.659830Z"
    }
   },
   "cell_type": "code",
   "source": "somme = mysum(1,2,3,4)",
   "id": "be9a819eab323632",
   "outputs": [],
   "execution_count": 4
  },
  {
   "metadata": {
    "ExecuteTime": {
     "end_time": "2025-07-08T00:17:43.314446Z",
     "start_time": "2025-07-08T00:17:43.312674Z"
    }
   },
   "cell_type": "code",
   "source": "print(somme)",
   "id": "715f208d67daee8d",
   "outputs": [
    {
     "name": "stdout",
     "output_type": "stream",
     "text": [
      "10\n"
     ]
    }
   ],
   "execution_count": 5
  },
  {
   "metadata": {},
   "cell_type": "code",
   "outputs": [],
   "execution_count": null,
   "source": "",
   "id": "f301169fbd4748dc"
  }
 ],
 "metadata": {
  "kernelspec": {
   "display_name": "Python 3",
   "language": "python",
   "name": "python3"
  },
  "language_info": {
   "codemirror_mode": {
    "name": "ipython",
    "version": 2
   },
   "file_extension": ".py",
   "mimetype": "text/x-python",
   "name": "python",
   "nbconvert_exporter": "python",
   "pygments_lexer": "ipython2",
   "version": "2.7.6"
  }
 },
 "nbformat": 4,
 "nbformat_minor": 5
}
