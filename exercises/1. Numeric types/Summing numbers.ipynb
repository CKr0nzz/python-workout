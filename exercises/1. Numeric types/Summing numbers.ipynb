{
 "cells": [
  {
   "cell_type": "code",
   "id": "initial_id",
   "metadata": {
    "collapsed": true,
    "ExecuteTime": {
     "end_time": "2025-07-08T00:17:11.312879Z",
     "start_time": "2025-07-08T00:17:11.310247Z"
    }
   },
   "source": [
    "def mysum(*numbers):\n",
    "    somme = 0\n",
    "    for number in numbers :\n",
    "        somme += number\n",
    "    return somme\n",
    "\n"
   ],
   "outputs": [],
   "execution_count": 1
  },
  {
   "metadata": {
    "ExecuteTime": {
     "end_time": "2025-07-08T00:17:42.661314Z",
     "start_time": "2025-07-08T00:17:42.659830Z"
    }
   },
   "cell_type": "code",
   "source": "somme = mysum(1,2,3,4)",
   "id": "be9a819eab323632",
   "outputs": [],
   "execution_count": 4
  },
  {
   "metadata": {
    "ExecuteTime": {
     "end_time": "2025-07-08T00:17:43.314446Z",
     "start_time": "2025-07-08T00:17:43.312674Z"
    }
   },
   "cell_type": "code",
   "source": "print(somme)",
   "id": "715f208d67daee8d",
   "outputs": [
    {
     "name": "stdout",
     "output_type": "stream",
     "text": [
      "10\n"
     ]
    }
   ],
   "execution_count": 5
  },
  {
   "metadata": {
    "ExecuteTime": {
     "end_time": "2025-07-09T00:52:09.539692Z",
     "start_time": "2025-07-09T00:52:09.537978Z"
    }
   },
   "cell_type": "code",
   "source": [
    "a = (1,2,3,4)\n",
    "x = sum(a)"
   ],
   "id": "f301169fbd4748dc",
   "outputs": [],
   "execution_count": 19
  },
  {
   "metadata": {
    "ExecuteTime": {
     "end_time": "2025-07-09T00:52:31.551446Z",
     "start_time": "2025-07-09T00:52:31.549684Z"
    }
   },
   "cell_type": "code",
   "source": "x",
   "id": "58bccb660eefc90a",
   "outputs": [
    {
     "data": {
      "text/plain": [
       "10"
      ]
     },
     "execution_count": 23,
     "metadata": {},
     "output_type": "execute_result"
    }
   ],
   "execution_count": 23
  },
  {
   "metadata": {
    "ExecuteTime": {
     "end_time": "2025-07-09T00:52:32.643677Z",
     "start_time": "2025-07-09T00:52:32.642217Z"
    }
   },
   "cell_type": "code",
   "source": "y = sum(a,2)",
   "id": "aa5ce5d7e3a9ae08",
   "outputs": [],
   "execution_count": 24
  },
  {
   "metadata": {
    "ExecuteTime": {
     "end_time": "2025-07-09T00:52:33.396575Z",
     "start_time": "2025-07-09T00:52:33.394900Z"
    }
   },
   "cell_type": "code",
   "source": "y",
   "id": "ac6345ebc18b6572",
   "outputs": [
    {
     "data": {
      "text/plain": [
       "12"
      ]
     },
     "execution_count": 25,
     "metadata": {},
     "output_type": "execute_result"
    }
   ],
   "execution_count": 25
  },
  {
   "metadata": {},
   "cell_type": "markdown",
   "source": "Comparativement à **mysum**, la fonction **sum** de python prend un deuxième argument (optionnel) qui additionne tous les elements du tuple à ce nombre\n",
   "id": "bf46ba41f1acc22d"
  },
  {
   "metadata": {
    "ExecuteTime": {
     "end_time": "2025-07-09T00:57:36.407778Z",
     "start_time": "2025-07-09T00:57:36.405980Z"
    }
   },
   "cell_type": "code",
   "source": [
    "def moyenne(list):\n",
    "    moyenne = 0\n",
    "    for number in list:\n",
    "        moyenne += number\n",
    "    moyenne = moyenne / len(list)\n",
    "    return moyenne\n"
   ],
   "id": "f203b2fcf4a50a42",
   "outputs": [],
   "execution_count": 26
  },
  {
   "metadata": {},
   "cell_type": "markdown",
   "source": [
    "Python ne force pas le type de la variable, mais on peut l'annoter avec un type : list[str]\n",
    "\n",
    "Attention en Python:\n",
    "[] = liste\n",
    "() = tuple"
   ],
   "id": "7630421bb1626a54"
  },
  {
   "metadata": {
    "ExecuteTime": {
     "end_time": "2025-07-09T01:27:56.830255Z",
     "start_time": "2025-07-09T01:27:56.828619Z"
    }
   },
   "cell_type": "code",
   "source": [
    "test = moyenne(a)\n",
    "print(test)"
   ],
   "id": "249310d2b872bc24",
   "outputs": [
    {
     "name": "stdout",
     "output_type": "stream",
     "text": [
      "2.5\n"
     ]
    }
   ],
   "execution_count": 43
  },
  {
   "metadata": {
    "ExecuteTime": {
     "end_time": "2025-07-09T01:27:57.318396Z",
     "start_time": "2025-07-09T01:27:57.316243Z"
    }
   },
   "cell_type": "code",
   "source": [
    "def longeur_des_mots(liste: list[str]) -> list[float]:\n",
    "    longest = 0\n",
    "    shortest = float('inf') # Si on veut le plus petit nombre, on ne peut pas initialiser à 0, ça nous prend un grand chiffre.\n",
    "    mean = 0\n",
    "    for mot in liste:\n",
    "        longeur = len(mot) # On utilise une variable longeur pour pas avoir à recalculer le len de mot à chaque fois (optimisation)\n",
    "        if longeur > longest:\n",
    "            longest = longeur\n",
    "        elif longeur < shortest: shortest = longeur\n",
    "        mean += longeur\n",
    "    mean = mean / len(liste)\n",
    "    resultat = [longest, shortest, mean]\n",
    "    return resultat\n",
    "\n",
    "\n"
   ],
   "id": "8fd65944df3538b5",
   "outputs": [],
   "execution_count": 44
  },
  {
   "metadata": {
    "ExecuteTime": {
     "end_time": "2025-07-09T01:27:57.830402Z",
     "start_time": "2025-07-09T01:27:57.828538Z"
    }
   },
   "cell_type": "code",
   "source": [
    "test_mots = (\"allo\", \"bonjour\", \"oui\")\n",
    "longeur_des_mots(test_mots)"
   ],
   "id": "4f4c56c81113d53e",
   "outputs": [
    {
     "data": {
      "text/plain": [
       "[7, 3, 4.666666666666667]"
      ]
     },
     "execution_count": 45,
     "metadata": {},
     "output_type": "execute_result"
    }
   ],
   "execution_count": 45
  },
  {
   "metadata": {
    "ExecuteTime": {
     "end_time": "2025-07-09T01:27:58.383353Z",
     "start_time": "2025-07-09T01:27:58.382058Z"
    }
   },
   "cell_type": "code",
   "source": "",
   "id": "14179cc7dc9a8748",
   "outputs": [],
   "execution_count": null
  },
  {
   "metadata": {},
   "cell_type": "code",
   "outputs": [],
   "execution_count": null,
   "source": "",
   "id": "32dec0c276cf7534"
  }
 ],
 "metadata": {
  "kernelspec": {
   "display_name": "Python 3",
   "language": "python",
   "name": "python3"
  },
  "language_info": {
   "codemirror_mode": {
    "name": "ipython",
    "version": 2
   },
   "file_extension": ".py",
   "mimetype": "text/x-python",
   "name": "python",
   "nbconvert_exporter": "python",
   "pygments_lexer": "ipython2",
   "version": "2.7.6"
  }
 },
 "nbformat": 4,
 "nbformat_minor": 5
}
