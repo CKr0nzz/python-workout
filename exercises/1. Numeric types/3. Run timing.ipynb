{
 "cells": [
  {
   "cell_type": "code",
   "id": "initial_id",
   "metadata": {
    "collapsed": true,
    "ExecuteTime": {
     "end_time": "2025-07-17T02:42:45.997466Z",
     "start_time": "2025-07-17T02:42:45.995349Z"
    }
   },
   "source": [
    "def run_timing():\n",
    "    times = []\n",
    "    while True:\n",
    "        try:\n",
    "            run_time = input(\"Combien de temps (en minutes) ça vous prend pour courir 10km?\")\n",
    "            if run_time == \"\":\n",
    "                break\n",
    "            times.append(float(run_time))\n",
    "        except ValueError: print(\"invalide\")\n",
    "    if times: # Vérifie que la liste n'est pas vide pour ne pas diviser par 0\n",
    "        moyenne = sum(times) / len(times)\n",
    "        print(f\"Vous avez couru en moyenne {moyenne} kms sur {len(times)} courses\")\n",
    "    else:\n",
    "        print(\"Vous n'avez pas couru\")\n",
    "\n",
    "\n",
    "\n"
   ],
   "outputs": [],
   "execution_count": 10
  },
  {
   "metadata": {
    "ExecuteTime": {
     "end_time": "2025-07-17T02:42:57.888703Z",
     "start_time": "2025-07-17T02:42:50.923547Z"
    }
   },
   "cell_type": "code",
   "source": "run_timing()",
   "id": "e6741e7a9d487511",
   "outputs": [
    {
     "name": "stdout",
     "output_type": "stream",
     "text": [
      "Vous avez couru en moyenne 9.0 kms sur 3 courses\n"
     ]
    }
   ],
   "execution_count": 12
  },
  {
   "metadata": {},
   "cell_type": "code",
   "outputs": [],
   "execution_count": null,
   "source": "",
   "id": "3ff444c45bd2e60b"
  }
 ],
 "metadata": {
  "kernelspec": {
   "display_name": "Python 3",
   "language": "python",
   "name": "python3"
  },
  "language_info": {
   "codemirror_mode": {
    "name": "ipython",
    "version": 2
   },
   "file_extension": ".py",
   "mimetype": "text/x-python",
   "name": "python",
   "nbconvert_exporter": "python",
   "pygments_lexer": "ipython2",
   "version": "2.7.6"
  }
 },
 "nbformat": 4,
 "nbformat_minor": 5
}
