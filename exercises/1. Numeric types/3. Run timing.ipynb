{
 "cells": [
  {
   "cell_type": "code",
   "id": "initial_id",
   "metadata": {
    "collapsed": true,
    "ExecuteTime": {
     "end_time": "2025-07-17T02:42:45.997466Z",
     "start_time": "2025-07-17T02:42:45.995349Z"
    }
   },
   "source": [
    "def run_timing():\n",
    "    times = []\n",
    "    while True:\n",
    "        try:\n",
    "            run_time = input(\"Combien de temps (en minutes) ça vous prend pour courir 10km?\")\n",
    "            if run_time == \"\":\n",
    "                break\n",
    "            times.append(float(run_time))\n",
    "        except ValueError: print(\"invalide\")\n",
    "    if times: # Vérifie que la liste n'est pas vide pour ne pas diviser par 0\n",
    "        moyenne = sum(times) / len(times)\n",
    "        print(f\"Vous avez couru en moyenne {moyenne} kms sur {len(times)} courses\")\n",
    "    else:\n",
    "        print(\"Vous n'avez pas couru\")\n",
    "\n",
    "\n",
    "\n"
   ],
   "outputs": [],
   "execution_count": 10
  },
  {
   "metadata": {
    "ExecuteTime": {
     "end_time": "2025-07-17T02:42:57.888703Z",
     "start_time": "2025-07-17T02:42:50.923547Z"
    }
   },
   "cell_type": "code",
   "source": "run_timing()",
   "id": "e6741e7a9d487511",
   "outputs": [
    {
     "name": "stdout",
     "output_type": "stream",
     "text": [
      "Vous avez couru en moyenne 9.0 kms sur 3 courses\n"
     ]
    }
   ],
   "execution_count": 12
  },
  {
   "metadata": {
    "ExecuteTime": {
     "end_time": "2025-07-18T22:48:48.783358Z",
     "start_time": "2025-07-18T22:48:48.781555Z"
    }
   },
   "cell_type": "code",
   "source": [
    "s = 0.1 + 0.2\n",
    ">>> print(s)"
   ],
   "id": "3ff444c45bd2e60b",
   "outputs": [
    {
     "name": "stdout",
     "output_type": "stream",
     "text": [
      "0.30000000000000004\n"
     ]
    }
   ],
   "execution_count": 4
  },
  {
   "metadata": {},
   "cell_type": "markdown",
   "source": [
    "# Garder le contrôle avec f-strings\n",
    "\n",
    "On peut voir que la réponse n'est pas bonne. Pourquoi?\n",
    "\n",
    "L’ordinateur n’utilise que des 0 et 1 (base 2).\n",
    "Les nombres à virgule (comme 0.1 ou 0.2) doivent être représentés sous forme binaire.\n",
    "\n",
    "0.1_10 (qui est 1/10), en binaire c’est une décimale infinie récurrente : 0.00011001100110011...\n",
    "donc 0.1 + 0.2 = 0.30000000000000004 ce qui est une approximation\n",
    "\n",
    "on peut utiliser les f-strings pour contourner le problème et limiter le nombre de chiffres après la virgule. À noter que cela n'arrondit pas le nombre au sens mathématique \"par défaut\", ça le formate à 2 chiffres après la virgule.\n",
    "\n",
    "**Le résultat affiché est arrondi, pas le nombre lui-même**"
   ],
   "id": "afbc5fd24d7c296f"
  },
  {
   "metadata": {
    "ExecuteTime": {
     "end_time": "2025-07-18T23:09:01.403605Z",
     "start_time": "2025-07-18T23:09:01.401885Z"
    }
   },
   "cell_type": "code",
   "source": "print(f'{s:.2f}')",
   "id": "76703c3478c0e0f7",
   "outputs": [
    {
     "name": "stdout",
     "output_type": "stream",
     "text": [
      "0.30\n"
     ]
    }
   ],
   "execution_count": 8
  },
  {
   "metadata": {
    "ExecuteTime": {
     "end_time": "2025-07-18T23:09:02.431730Z",
     "start_time": "2025-07-18T23:09:02.429684Z"
    }
   },
   "cell_type": "code",
   "source": [
    "def run_timingV2():\n",
    "    times = []\n",
    "    while True:\n",
    "        try:\n",
    "            run_time = input(\"Combien de temps (en minutes) ça vous prend pour courir 10km?\")\n",
    "            if run_time == \"\":\n",
    "                break\n",
    "            times.append(float(run_time))\n",
    "        except ValueError: print(\"invalide\")\n",
    "    if times: # Vérifie que la liste n'est pas vide pour ne pas diviser par 0\n",
    "        moyenne = sum(times) / len(times)\n",
    "        print(f\"Vous avez couru en moyenne {moyenne:.2f} kms sur {len(times)} courses\")\n",
    "    else:\n",
    "        print(\"Vous n'avez pas couru\")"
   ],
   "id": "bb528b8e90e6c257",
   "outputs": [],
   "execution_count": 9
  },
  {
   "metadata": {
    "ExecuteTime": {
     "end_time": "2025-07-18T23:09:23.252828Z",
     "start_time": "2025-07-18T23:09:15.594232Z"
    }
   },
   "cell_type": "code",
   "source": "run_timingV2()",
   "id": "62842fcefe6dcd81",
   "outputs": [
    {
     "name": "stdout",
     "output_type": "stream",
     "text": [
      "Vous avez couru en moyenne 0.15 kms sur 2 courses\n"
     ]
    }
   ],
   "execution_count": 10
  },
  {
   "metadata": {},
   "cell_type": "code",
   "outputs": [],
   "execution_count": null,
   "source": "",
   "id": "6c7690c0c77e4a66"
  }
 ],
 "metadata": {
  "kernelspec": {
   "display_name": "Python 3",
   "language": "python",
   "name": "python3"
  },
  "language_info": {
   "codemirror_mode": {
    "name": "ipython",
    "version": 2
   },
   "file_extension": ".py",
   "mimetype": "text/x-python",
   "name": "python",
   "nbconvert_exporter": "python",
   "pygments_lexer": "ipython2",
   "version": "2.7.6"
  }
 },
 "nbformat": 4,
 "nbformat_minor": 5
}
