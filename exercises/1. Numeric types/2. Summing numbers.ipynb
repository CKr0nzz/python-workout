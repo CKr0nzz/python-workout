{
 "cells": [
  {
   "cell_type": "code",
   "id": "initial_id",
   "metadata": {
    "collapsed": true,
    "ExecuteTime": {
     "end_time": "2025-07-08T00:17:11.312879Z",
     "start_time": "2025-07-08T00:17:11.310247Z"
    }
   },
   "source": [
    "def mysum(*numbers):\n",
    "    somme = 0\n",
    "    for number in numbers :\n",
    "        somme += number\n",
    "    return somme\n",
    "\n"
   ],
   "outputs": [],
   "execution_count": 1
  },
  {
   "metadata": {
    "ExecuteTime": {
     "end_time": "2025-07-08T00:17:42.661314Z",
     "start_time": "2025-07-08T00:17:42.659830Z"
    }
   },
   "cell_type": "code",
   "source": "somme = mysum(1,2,3,4)",
   "id": "be9a819eab323632",
   "outputs": [],
   "execution_count": 4
  },
  {
   "metadata": {
    "ExecuteTime": {
     "end_time": "2025-07-08T00:17:43.314446Z",
     "start_time": "2025-07-08T00:17:43.312674Z"
    }
   },
   "cell_type": "code",
   "source": "print(somme)",
   "id": "715f208d67daee8d",
   "outputs": [
    {
     "name": "stdout",
     "output_type": "stream",
     "text": [
      "10\n"
     ]
    }
   ],
   "execution_count": 5
  },
  {
   "metadata": {
    "ExecuteTime": {
     "end_time": "2025-07-09T00:52:09.539692Z",
     "start_time": "2025-07-09T00:52:09.537978Z"
    }
   },
   "cell_type": "code",
   "source": [
    "a = (1,2,3,4)\n",
    "x = sum(a)"
   ],
   "id": "f301169fbd4748dc",
   "outputs": [],
   "execution_count": 19
  },
  {
   "metadata": {
    "ExecuteTime": {
     "end_time": "2025-07-09T00:52:31.551446Z",
     "start_time": "2025-07-09T00:52:31.549684Z"
    }
   },
   "cell_type": "code",
   "source": "x",
   "id": "58bccb660eefc90a",
   "outputs": [
    {
     "data": {
      "text/plain": [
       "10"
      ]
     },
     "execution_count": 23,
     "metadata": {},
     "output_type": "execute_result"
    }
   ],
   "execution_count": 23
  },
  {
   "metadata": {
    "ExecuteTime": {
     "end_time": "2025-07-09T00:52:32.643677Z",
     "start_time": "2025-07-09T00:52:32.642217Z"
    }
   },
   "cell_type": "code",
   "source": "y = sum(a,2)",
   "id": "aa5ce5d7e3a9ae08",
   "outputs": [],
   "execution_count": 24
  },
  {
   "metadata": {
    "ExecuteTime": {
     "end_time": "2025-07-09T00:52:33.396575Z",
     "start_time": "2025-07-09T00:52:33.394900Z"
    }
   },
   "cell_type": "code",
   "source": "y",
   "id": "ac6345ebc18b6572",
   "outputs": [
    {
     "data": {
      "text/plain": [
       "12"
      ]
     },
     "execution_count": 25,
     "metadata": {},
     "output_type": "execute_result"
    }
   ],
   "execution_count": 25
  },
  {
   "metadata": {},
   "cell_type": "markdown",
   "source": "Comparativement à **mysum**, la fonction **sum** de python prend un deuxième argument (optionnel) qui additionne tous les elements du tuple à ce nombre\n",
   "id": "bf46ba41f1acc22d"
  },
  {
   "metadata": {
    "ExecuteTime": {
     "end_time": "2025-07-09T00:57:36.407778Z",
     "start_time": "2025-07-09T00:57:36.405980Z"
    }
   },
   "cell_type": "code",
   "source": [
    "def moyenne(list):\n",
    "    moyenne = 0\n",
    "    for number in list:\n",
    "        moyenne += number\n",
    "    moyenne = moyenne / len(list)\n",
    "    return moyenne\n"
   ],
   "id": "f203b2fcf4a50a42",
   "outputs": [],
   "execution_count": 26
  },
  {
   "metadata": {},
   "cell_type": "markdown",
   "source": [
    "Python ne force pas le type de la variable, mais on peut l'annoter avec un type : list[str]\n",
    "\n",
    "Attention en Python:\n",
    "[] = liste\n",
    "() = tuple"
   ],
   "id": "7630421bb1626a54"
  },
  {
   "metadata": {
    "ExecuteTime": {
     "end_time": "2025-07-09T01:27:56.830255Z",
     "start_time": "2025-07-09T01:27:56.828619Z"
    }
   },
   "cell_type": "code",
   "source": [
    "test = moyenne(a)\n",
    "print(test)"
   ],
   "id": "249310d2b872bc24",
   "outputs": [
    {
     "name": "stdout",
     "output_type": "stream",
     "text": [
      "2.5\n"
     ]
    }
   ],
   "execution_count": 43
  },
  {
   "metadata": {
    "ExecuteTime": {
     "end_time": "2025-07-10T01:51:52.990405Z",
     "start_time": "2025-07-10T01:51:52.988386Z"
    }
   },
   "cell_type": "code",
   "source": [
    "def longeur_des_mots(liste: list[str]) -> list[float]:\n",
    "    longest = 0\n",
    "    shortest = float('inf') # Si on veut le plus petit nombre, on ne peut pas initialiser à 0, ça nous prend un grand chiffre.\n",
    "    mean = 0\n",
    "    for mot in liste:\n",
    "        longeur = len(mot) # On utilise une variable longeur pour pas avoir à recalculer le len de mot à chaque fois (optimisation)\n",
    "        if longeur > longest:\n",
    "            longest = longeur\n",
    "        elif longeur < shortest: shortest = longeur\n",
    "        mean += longeur\n",
    "    mean = mean / len(liste)\n",
    "    resultat = (longest, shortest, mean)\n",
    "    return resultat\n",
    "\n",
    "\n"
   ],
   "id": "8fd65944df3538b5",
   "outputs": [],
   "execution_count": 3
  },
  {
   "metadata": {
    "ExecuteTime": {
     "end_time": "2025-07-10T01:51:53.215243Z",
     "start_time": "2025-07-10T01:51:53.213252Z"
    }
   },
   "cell_type": "code",
   "source": [
    "test_mots = (\"allo\", \"bonjour\", \"oui\")\n",
    "longeur_des_mots(test_mots)"
   ],
   "id": "4f4c56c81113d53e",
   "outputs": [
    {
     "data": {
      "text/plain": [
       "(7, 3, 4.666666666666667)"
      ]
     },
     "execution_count": 4,
     "metadata": {},
     "output_type": "execute_result"
    }
   ],
   "execution_count": 4
  },
  {
   "metadata": {
    "ExecuteTime": {
     "end_time": "2025-07-10T02:05:24.413896Z",
     "start_time": "2025-07-10T02:05:24.412088Z"
    }
   },
   "cell_type": "code",
   "source": [
    "# Write a function that takes a list of Python objects. Sum the objects that either\n",
    "# are integers or can be turned into integers, ignoring the others.\n",
    "\n",
    "def sum_ignore(liste: list):\n",
    "    total = 0\n",
    "    for number in liste:\n",
    "        try:\n",
    "            valeur = int(number)\n",
    "            total += valeur\n",
    "        except (ValueError, TypeError):\n",
    "            continue\n",
    "    return total\n",
    "\n",
    "\n",
    "\n",
    "\n",
    "\n"
   ],
   "id": "32dec0c276cf7534",
   "outputs": [],
   "execution_count": 15
  },
  {
   "metadata": {
    "ExecuteTime": {
     "end_time": "2025-07-10T02:05:24.972455Z",
     "start_time": "2025-07-10T02:05:24.970420Z"
    }
   },
   "cell_type": "code",
   "source": [
    "liste = [[1,2,3,4,5], \"allo\", None, 1,2,3]\n",
    "\n",
    "sum_ignore(liste)"
   ],
   "id": "2a7d0aeeb0c9f163",
   "outputs": [
    {
     "data": {
      "text/plain": [
       "6"
      ]
     },
     "execution_count": 16,
     "metadata": {},
     "output_type": "execute_result"
    }
   ],
   "execution_count": 16
  },
  {
   "metadata": {},
   "cell_type": "markdown",
   "source": "Il existe peut-être d'autres types d'erreurs selon le type d'objets fournis dans la liste... à vérifier.",
   "id": "45716b78dd85d0c0"
  }
 ],
 "metadata": {
  "kernelspec": {
   "display_name": "Python 3",
   "language": "python",
   "name": "python3"
  },
  "language_info": {
   "codemirror_mode": {
    "name": "ipython",
    "version": 2
   },
   "file_extension": ".py",
   "mimetype": "text/x-python",
   "name": "python",
   "nbconvert_exporter": "python",
   "pygments_lexer": "ipython2",
   "version": "2.7.6"
  }
 },
 "nbformat": 4,
 "nbformat_minor": 5
}
