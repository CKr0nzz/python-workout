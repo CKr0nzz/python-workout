{
 "cells": [
  {
   "metadata": {
    "ExecuteTime": {
     "end_time": "2025-07-16T01:38:20.923653Z",
     "start_time": "2025-07-16T01:38:20.922168Z"
    }
   },
   "cell_type": "code",
   "source": "from random import randint, random",
   "id": "547bf92bc5f4d234",
   "outputs": [],
   "execution_count": 18
  },
  {
   "metadata": {
    "collapsed": true,
    "ExecuteTime": {
     "end_time": "2025-07-16T01:38:21.274784Z",
     "start_time": "2025-07-16T01:38:21.272908Z"
    }
   },
   "cell_type": "code",
   "source": [
    "def guessing_game():\n",
    "    reponse = randint(0,100)\n",
    "    while True: # Idéal pour les boucles infinies\n",
    "        essaie = int(input(\"Un nombre entre 0 et 100 a été choisi, devine le.\"))\n",
    "        if essaie == reponse:\n",
    "            print(f\"Bravo, {essaie} est le bon nombre!\")\n",
    "            break\n",
    "        elif essaie < reponse: print(f\"Le nombre que tu as choisis ({essaie}) est trop petit\")\n",
    "        # Pas besoin d'un autre elif car le dernier cas est forcément >\n",
    "        else: print(f\"Le nombre que tu as choisis ({essaie}) est trop grand\") #"
   ],
   "id": "initial_id",
   "outputs": [],
   "execution_count": 19
  },
  {
   "metadata": {
    "ExecuteTime": {
     "end_time": "2025-07-16T01:38:21.619102Z",
     "start_time": "2025-07-16T01:38:21.617250Z"
    }
   },
   "cell_type": "code",
   "source": [
    "def guessing_game_max():\n",
    "    reponse = randint(0,100)\n",
    "    for i in range(3):\n",
    "        essaie = int(input(\"Un nombre entre 0 et 100 a été choisi, devine le, tu as trois essaies.\"))\n",
    "        if essaie == reponse:\n",
    "            print(f\"Bravo, {essaie} est le bon nombre!\")\n",
    "            break\n",
    "        elif essaie < reponse: print(f\"Le nombre que tu as choisis ({essaie}) est trop petit, il te reste {2-i} essaies\")\n",
    "        else: print(f\"Le nombre que tu as choisis ({essaie}) est trop grand, il te reste {2-i} essaies\")\n",
    "    print(\"Vous avez perdu!\")"
   ],
   "id": "e1899f955381314a",
   "outputs": [],
   "execution_count": 20
  },
  {
   "metadata": {
    "ExecuteTime": {
     "end_time": "2025-07-16T01:38:23.020101Z",
     "start_time": "2025-07-16T01:38:23.018096Z"
    }
   },
   "cell_type": "code",
   "source": [
    "def guessing_game_base():\n",
    "    reponse = randint(0,100)\n",
    "    # La fonction int() en Python peut prendre deux arguments :\n",
    "    # x : une chaîne de caractères (ex. '1010')\n",
    "    # base : la base dans laquelle cette chaîne est exprimée (entre 2 et 36)\n",
    "    base = randint(2,16)\n",
    "    while True:\n",
    "        saisie = input(f\"Un nombre entre 0 et 100 a été choisi, la répone doit être donné en base {base}.\")# Pour stocker la réponse avant la conversion avec la base\n",
    "        essaie = int(saisie, base)\n",
    "        print(reponse) # pour débug\n",
    "        if essaie == reponse:\n",
    "            print(f\"Bravo, {saisie} en base {base} = {essaie}, c'est le bon nombre!\")\n",
    "            break\n",
    "        elif essaie < reponse: print(f\"Le nombre que tu as choisis ({essaie}) est trop petit\")\n",
    "        else: print(f\"Le nombre que tu as choisis ({essaie}) est trop grand\")"
   ],
   "id": "189b2a1683fd4d92",
   "outputs": [],
   "execution_count": 21
  },
  {
   "metadata": {},
   "cell_type": "markdown",
   "source": [
    "# Notes sur guessing_game_base\n",
    "Étant habitué à Java, je pensais que int() était une façon de forcer la saisie à être un int, mais ce n'est pas le cas en Python.\n",
    "int sans deuxième argument suppose une base 10, ce qui ne permet pas de la convertir par la suite dans une autre base.\n",
    "-Il faudrait donc valider le int avec un try/except, mais ce n'est pas le but de l'exercice ici.\n",
    "\n",
    "Tests :\n",
    "Python ne reconvertit pas le int dans la bonne base pour l'affichage (exemple : 24 en base 14 = 1a), mais affiche simplement 24 à la console.\n",
    "Il va falloir créer une fonction pour obtenir la représentation correcte."
   ],
   "id": "25d8fe071281dedb"
  },
  {
   "metadata": {
    "ExecuteTime": {
     "end_time": "2025-07-16T02:08:08.096459Z",
     "start_time": "2025-07-16T02:08:08.094584Z"
    }
   },
   "cell_type": "code",
   "source": [
    "def int_to_base(essaie, base):\n",
    "    chiffres_possibles = \"0123456789abcdef\"\n",
    "    resultat = []\n",
    "    while essaie > 0:\n",
    "        resultat.append(chiffres_possibles[essaie % base])\n",
    "        essaie //= base # division entière + assignation\n",
    "    resultat.reverse() # dans la division euclidienne, l'ordre est inversé pour former le nombre\n",
    "    return \"\".join(resultat)\n"
   ],
   "id": "2af2c03d413abe59",
   "outputs": [],
   "execution_count": 43
  },
  {
   "metadata": {
    "ExecuteTime": {
     "end_time": "2025-07-16T02:11:50.238472Z",
     "start_time": "2025-07-16T02:11:50.236417Z"
    }
   },
   "cell_type": "code",
   "source": [
    "def guessing_game_baseV2():\n",
    "    reponse = randint(0,100)\n",
    "    # La fonction int() en Python peut prendre deux arguments :\n",
    "    # x : une chaîne de caractères (ex. '1010')\n",
    "    # base : la base dans laquelle cette chaîne est exprimée (entre 2 et 36)\n",
    "    base = randint(2,16)\n",
    "    while True:\n",
    "        try:\n",
    "            saisie = input(f\"Un nombre entre 0 et 100 a été choisi, la répone doit être donné en base {base}.\")# Pour stocker la réponse avant la conversion avec la base\n",
    "            essaie = int(saisie, base)\n",
    "            print(reponse) # pour débug\n",
    "            if essaie == reponse:\n",
    "                print((f\"Bravo, {saisie} en base {base} = \") + (int_to_base(essaie, base) + \" c'est le bon nombre!\"))\n",
    "                break\n",
    "            elif essaie < reponse: print(f\"Le nombre que tu as choisis ({essaie}) est trop petit\")\n",
    "            else: print(f\"Le nombre que tu as choisis ({essaie}) est trop grand\")\n",
    "        except ValueError:\n",
    "            print(\"Ce chiffre n'est pas dans la bonne base\")"
   ],
   "id": "41e04ca029f670e",
   "outputs": [],
   "execution_count": 49
  },
  {
   "metadata": {
    "ExecuteTime": {
     "end_time": "2025-07-16T02:12:23.273870Z",
     "start_time": "2025-07-16T02:11:50.428600Z"
    }
   },
   "cell_type": "code",
   "source": "guessing_game_baseV2()",
   "id": "6982368876107729",
   "outputs": [
    {
     "name": "stdout",
     "output_type": "stream",
     "text": [
      "83\n",
      "Le nombre que tu as choisis (70) est trop petit\n",
      "83\n",
      "Le nombre que tu as choisis (70) est trop petit\n",
      "83\n",
      "Bravo, 5D en base 14 = 5d c'est le bon nombre!\n"
     ]
    }
   ],
   "execution_count": 50
  },
  {
   "metadata": {},
   "cell_type": "code",
   "outputs": [],
   "execution_count": null,
   "source": "",
   "id": "fb43f16a566f6d56"
  }
 ],
 "metadata": {
  "kernelspec": {
   "display_name": "Python 3",
   "language": "python",
   "name": "python3"
  },
  "language_info": {
   "codemirror_mode": {
    "name": "ipython",
    "version": 2
   },
   "file_extension": ".py",
   "mimetype": "text/x-python",
   "name": "python",
   "nbconvert_exporter": "python",
   "pygments_lexer": "ipython2",
   "version": "2.7.6"
  }
 },
 "nbformat": 4,
 "nbformat_minor": 5
}
