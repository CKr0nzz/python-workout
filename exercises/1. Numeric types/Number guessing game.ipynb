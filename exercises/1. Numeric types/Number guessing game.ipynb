{
 "cells": [
  {
   "cell_type": "code",
   "id": "initial_id",
   "metadata": {
    "collapsed": true,
    "ExecuteTime": {
     "end_time": "2025-07-04T01:22:57.116576Z",
     "start_time": "2025-07-04T01:22:57.114561Z"
    }
   },
   "source": [
    "from random import randint\n",
    "\n",
    "\n",
    "def guessing_game():\n",
    "    reponse = randint(0,100)\n",
    "    while True: # Idéal pour les boucles infinies\n",
    "        essaie = int(input(\"Un nombre entre 0 et 100 a été choisi, devine le.\"))\n",
    "        if essaie == reponse:\n",
    "            print(f\"Bravo, {essaie} est le bon nombre!\")\n",
    "            break\n",
    "        elif essaie < reponse: print(f\"Le nombre que tu as choisis ({essaie}) est trop petit\")\n",
    "        # Pas besoin d'un autre elif car le dernier cas est forcément >\n",
    "        else: print(f\"Le nombre que tu as choisis ({essaie}) est trop grand\") #\n",
    "\n"
   ],
   "outputs": [],
   "execution_count": 7
  },
  {
   "metadata": {
    "ExecuteTime": {
     "end_time": "2025-07-04T01:23:33.944033Z",
     "start_time": "2025-07-04T01:22:57.512664Z"
    }
   },
   "cell_type": "code",
   "source": "guessing_game()",
   "id": "e7dac3b87fa24f63",
   "outputs": [
    {
     "name": "stdout",
     "output_type": "stream",
     "text": [
      "Le nombre que tu as choisis (50) est trop petit\n",
      "Le nombre que tu as choisis (60) est trop grand\n",
      "Le nombre que tu as choisis (55) est trop grand\n",
      "Le nombre que tu as choisis (54) est trop grand\n",
      "Le nombre que tu as choisis (54) est trop grand\n",
      "Le nombre que tu as choisis (53) est trop grand\n",
      "Le nombre que tu as choisis (53) est trop grand\n",
      "Le nombre que tu as choisis (52) est trop grand\n",
      "Bravo 51 est le bon nombre!\n"
     ]
    }
   ],
   "execution_count": 8
  },
  {
   "metadata": {},
   "cell_type": "code",
   "outputs": [],
   "execution_count": null,
   "source": "",
   "id": "9af3e5119ca82b6a"
  }
 ],
 "metadata": {
  "kernelspec": {
   "display_name": "Python 3",
   "language": "python",
   "name": "python3"
  },
  "language_info": {
   "codemirror_mode": {
    "name": "ipython",
    "version": 2
   },
   "file_extension": ".py",
   "mimetype": "text/x-python",
   "name": "python",
   "nbconvert_exporter": "python",
   "pygments_lexer": "ipython2",
   "version": "2.7.6"
  }
 },
 "nbformat": 4,
 "nbformat_minor": 5
}
