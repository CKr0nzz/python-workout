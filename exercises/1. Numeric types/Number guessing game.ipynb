{
 "cells": [
  {
   "metadata": {
    "ExecuteTime": {
     "end_time": "2025-07-06T01:46:59.430801Z",
     "start_time": "2025-07-06T01:46:59.429288Z"
    }
   },
   "cell_type": "code",
   "source": "from random import randint, random",
   "id": "547bf92bc5f4d234",
   "outputs": [],
   "execution_count": 22
  },
  {
   "metadata": {
    "collapsed": true,
    "ExecuteTime": {
     "end_time": "2025-07-06T01:29:44.785390Z",
     "start_time": "2025-07-06T01:29:44.782625Z"
    }
   },
   "cell_type": "code",
   "outputs": [],
   "execution_count": 11,
   "source": [
    "def guessing_game():\n",
    "    reponse = randint(0,100)\n",
    "    while True: # Idéal pour les boucles infinies\n",
    "        essaie = int(input(\"Un nombre entre 0 et 100 a été choisi, devine le.\"))\n",
    "        if essaie == reponse:\n",
    "            print(f\"Bravo, {essaie} est le bon nombre!\")\n",
    "            break\n",
    "        elif essaie < reponse: print(f\"Le nombre que tu as choisis ({essaie}) est trop petit\")\n",
    "        # Pas besoin d'un autre elif car le dernier cas est forcément >\n",
    "        else: print(f\"Le nombre que tu as choisis ({essaie}) est trop grand\") #"
   ],
   "id": "initial_id"
  },
  {
   "metadata": {},
   "cell_type": "code",
   "outputs": [],
   "execution_count": null,
   "source": [
    "def guessing_game_max():\n",
    "    reponse = randint(0,100)\n",
    "    for i in range(3):\n",
    "        essaie = int(input(\"Un nombre entre 0 et 100 a été choisi, devine le, tu as trois essaies.\"))\n",
    "        if essaie == reponse:\n",
    "            print(f\"Bravo, {essaie} est le bon nombre!\")\n",
    "            break\n",
    "        elif essaie < reponse: print(f\"Le nombre que tu as choisis ({essaie}) est trop petit, il te reste {2-i} essaies\")\n",
    "        else: print(f\"Le nombre que tu as choisis ({essaie}) est trop grand, il te reste {2-i} essaies\")\n",
    "    print(\"Vous avez perdu!\")"
   ],
   "id": "e1899f955381314a"
  },
  {
   "metadata": {},
   "cell_type": "code",
   "outputs": [],
   "execution_count": null,
   "source": [
    "def guessing_game_base():\n",
    "    reponse = randint(0,100)\n",
    "    # La fonction int() en Python peut prendre deux arguments :\n",
    "    # x : une chaîne de caractères (ex. '1010')\n",
    "    # base : la base dans laquelle cette chaîne est exprimée (entre 2 et 36)\n",
    "    base = randint(2,16)\n",
    "    while True:\n",
    "        saisie = input(f\"Un nombre entre 0 et 100 a été choisi, la répone doit être donné en base {base}.\")# Pour stocker la réponse avant la conversion avec la base\n",
    "        essaie = int(saisie, base)\n",
    "        print(reponse) # pour débug\n",
    "        if essaie == reponse:\n",
    "            print(f\"Bravo, {saisie} en base {base} = {essaie}, c'est le bon nombre!\")\n",
    "            break\n",
    "        elif essaie < reponse: print(f\"Le nombre que tu as choisis ({essaie}) est trop petit\")\n",
    "        else: print(f\"Le nombre que tu as choisis ({essaie}) est trop grand\")"
   ],
   "id": "189b2a1683fd4d92"
  },
  {
   "metadata": {
    "ExecuteTime": {
     "end_time": "2025-07-06T02:01:56.230260Z",
     "start_time": "2025-07-06T02:00:56.006342Z"
    }
   },
   "cell_type": "code",
   "source": "guessing_game_base()",
   "id": "e7dac3b87fa24f63",
   "outputs": [
    {
     "name": "stdout",
     "output_type": "stream",
     "text": [
      "24\n",
      "Le nombre que tu as choisis (75) est trop grand\n",
      "24\n",
      "Le nombre que tu as choisis (32) est trop grand\n",
      "24\n",
      "Bravo, 24 en base 14 = 24, c'est le bon nombre!\n"
     ]
    }
   ],
   "execution_count": 28
  },
  {
   "metadata": {},
   "cell_type": "markdown",
   "source": [
    "# Notes sur guessing_game_base\n",
    "Étant habitué à Java, je pensais que int() était une façon de forcer la saisie à être un int, mais ce n'est pas le cas en Python.\n",
    "int sans deuxième argument suppose une base 10, ce qui ne permet pas de la convertir par la suite dans une autre base.\n",
    "-Il faudrait donc valider le int avec un try/except, mais ce n'est pas le but de l'exercice ici.\n",
    "\n",
    "Tests :\n",
    "Python ne reconvertit pas le int dans la bonne base pour l'affichage (exemple : 24 en base 14 = 1a), mais affiche simplement 24 à la console.\n",
    "Il va falloir créer une fonction pour obtenir la représentation correcte."
   ],
   "id": "25d8fe071281dedb"
  },
  {
   "metadata": {
    "ExecuteTime": {
     "end_time": "2025-07-06T02:00:54.400057Z",
     "start_time": "2025-07-06T02:00:54.398789Z"
    }
   },
   "cell_type": "code",
   "source": "",
   "id": "2af2c03d413abe59",
   "outputs": [],
   "execution_count": null
  },
  {
   "metadata": {},
   "cell_type": "code",
   "outputs": [],
   "execution_count": null,
   "source": "",
   "id": "a789051a58b790b2"
  }
 ],
 "metadata": {
  "kernelspec": {
   "display_name": "Python 3",
   "language": "python",
   "name": "python3"
  },
  "language_info": {
   "codemirror_mode": {
    "name": "ipython",
    "version": 2
   },
   "file_extension": ".py",
   "mimetype": "text/x-python",
   "name": "python",
   "nbconvert_exporter": "python",
   "pygments_lexer": "ipython2",
   "version": "2.7.6"
  }
 },
 "nbformat": 4,
 "nbformat_minor": 5
}
