{
 "cells": [
  {
   "metadata": {},
   "cell_type": "raw",
   "source": "En Python il est possible d'utiliser hex pour convertir un int en hexadécimal hex(222) par exemple.",
   "id": "6406b6aec53ee8f4"
  },
  {
   "metadata": {
    "ExecuteTime": {
     "end_time": "2025-07-20T00:39:48.177875Z",
     "start_time": "2025-07-20T00:39:48.175852Z"
    }
   },
   "cell_type": "code",
   "source": [
    "# Si un utilisateur entre 50, on assume que c'est  un hexa, soit 0x50:\n",
    "# 0 *16^0 + 5*16^1 = 80 en base 10\n",
    "\n",
    "def hex_output(hexa: str):\n",
    "    base_10 = 0\n",
    "    for index, digit in enumerate(reversed(hexa)):\n",
    "        print(f'{digit} * 16 ** {index}') # Debug\n",
    "        base_10 += int(digit, 16) * (16 ** index)\n",
    "    print(f'0x{hexa} en base 10 = {base_10}')\n",
    "\n",
    "\n",
    "\n"
   ],
   "id": "1b5db837922c6818",
   "outputs": [],
   "execution_count": 53
  },
  {
   "metadata": {
    "ExecuteTime": {
     "end_time": "2025-07-20T00:39:53.568824Z",
     "start_time": "2025-07-20T00:39:53.567003Z"
    }
   },
   "cell_type": "code",
   "source": "hex_output('FF123')",
   "id": "64cb2f7694d55324",
   "outputs": [
    {
     "name": "stdout",
     "output_type": "stream",
     "text": [
      "3 * 16 ** 0\n",
      "2 * 16 ** 1\n",
      "1 * 16 ** 2\n",
      "F * 16 ** 3\n",
      "F * 16 ** 4\n",
      "0xFF123 en base 10 = 1044771\n"
     ]
    }
   ],
   "execution_count": 54
  },
  {
   "metadata": {},
   "cell_type": "code",
   "outputs": [],
   "execution_count": null,
   "source": "",
   "id": "709be1b013531df3"
  },
  {
   "metadata": {},
   "cell_type": "markdown",
   "source": [
    "# Python ord et chr\n",
    "ord() transforme un caractère (ex. 'A') en int correspondant à son code Unicode (souvent appelé **code point**).\n",
    "Ex : ord('A') -> 65\n",
    "\n",
    "chr est utilisé pour transformer un int en unicode\n",
    "chr() fait l’inverse: il prend un int et retourne le caractère Unicode correspondant.\n",
    "Exemple : chr(65) → 'A'\n",
    "\n",
    "réécrivons hex_output sans utilisé int et en utilisant seulement ord et chr\n",
    "\n",
    "**0-9 (char) = 48-57 (hexadécimal)**\n",
    "Donc si on veut le chiffre 2, on doit faire: 50 - 48 = 2\n",
    "\n",
    "**A-F (char) = 65-70 (hexadécimal)**\n",
    "Donc si on veut la lettre B, on doit faire: 67 - 65 = B\n",
    "\n",
    "\n"
   ],
   "id": "137dea6aee1c82ee"
  },
  {
   "metadata": {
    "ExecuteTime": {
     "end_time": "2025-07-22T01:07:34.124903Z",
     "start_time": "2025-07-22T01:07:34.122521Z"
    }
   },
   "cell_type": "code",
   "source": [
    "def hex_outputV2(hexa: str):\n",
    "    base_10 = 0\n",
    "    for index, digit in enumerate(reversed(hexa)):\n",
    "        # Convertir caractère hexa en valeur numérique avec ord\n",
    "        if ord('0') <= ord(digit) <= ord('9'):\n",
    "            value = ord(digit) - ord('0')\n",
    "        elif ord('A') <= ord(digit) <= ord('F'):\n",
    "            value = ord(digit) - ord('A') + 10 # Ne pas oublier le + 10 car A à F c'est 10 à 16 et non 0 à 5\n",
    "        elif ord('a') <= ord(digit) <= ord('f'):\n",
    "            value = ord(digit) - ord('a') + 10\n",
    "        else:\n",
    "            raise ValueError(f'Invalid hexadecimal value {digit}')\n",
    "        print(f'{digit} ({value}) * 16 ** {index}')  # Debug\n",
    "        base_10 += value * (16 ** index)\n",
    "\n",
    "    print(f'0x{hexa} en base 10 = {base_10}')\n",
    "\n"
   ],
   "id": "829ab6afae5890de",
   "outputs": [],
   "execution_count": 19
  },
  {
   "metadata": {
    "ExecuteTime": {
     "end_time": "2025-07-22T01:07:34.403025Z",
     "start_time": "2025-07-22T01:07:34.401346Z"
    }
   },
   "cell_type": "code",
   "source": "hex_outputV2('FfF123')",
   "id": "c0686e759a81e604",
   "outputs": [
    {
     "name": "stdout",
     "output_type": "stream",
     "text": [
      "3 (3) * 16 ** 0\n",
      "2 (2) * 16 ** 1\n",
      "1 (1) * 16 ** 2\n",
      "F (15) * 16 ** 3\n",
      "f (15) * 16 ** 4\n",
      "F (15) * 16 ** 5\n",
      "0xFfF123 en base 10 = 16773411\n"
     ]
    }
   ],
   "execution_count": 20
  },
  {
   "metadata": {
    "ExecuteTime": {
     "end_time": "2025-07-22T01:00:50.709358Z",
     "start_time": "2025-07-22T01:00:50.708014Z"
    }
   },
   "cell_type": "code",
   "source": "",
   "id": "f6a1e045617e1fe",
   "outputs": [],
   "execution_count": null
  },
  {
   "metadata": {},
   "cell_type": "code",
   "outputs": [],
   "execution_count": null,
   "source": "",
   "id": "65bc8eef3ba01711"
  }
 ],
 "metadata": {
  "kernelspec": {
   "display_name": "Python 3",
   "language": "python",
   "name": "python3"
  },
  "language_info": {
   "codemirror_mode": {
    "name": "ipython",
    "version": 2
   },
   "file_extension": ".py",
   "mimetype": "text/x-python",
   "name": "python",
   "nbconvert_exporter": "python",
   "pygments_lexer": "ipython2",
   "version": "2.7.6"
  }
 },
 "nbformat": 4,
 "nbformat_minor": 5
}
