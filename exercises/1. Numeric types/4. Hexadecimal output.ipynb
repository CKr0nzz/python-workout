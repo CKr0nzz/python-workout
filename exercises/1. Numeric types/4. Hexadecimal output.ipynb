{
 "cells": [
  {
   "metadata": {},
   "cell_type": "raw",
   "source": "En Python il est possible d'utiliser hex pour convertir un int en hexadécimal hex(222) par exemple.",
   "id": "6406b6aec53ee8f4"
  },
  {
   "metadata": {
    "ExecuteTime": {
     "end_time": "2025-07-20T00:39:48.177875Z",
     "start_time": "2025-07-20T00:39:48.175852Z"
    }
   },
   "cell_type": "code",
   "source": [
    "# Si un utilisateur entre 50, on assume que c'est  un hexa, soit 0x50:\n",
    "# 0 *16^0 + 5*16^1 = 80 en base 10\n",
    "\n",
    "def hex_output(hexa: str):\n",
    "    base_10 = 0\n",
    "    for index, digit in enumerate(reversed(hexa)):\n",
    "        print(f'{digit} * 16 ** {index}') # Debug\n",
    "        base_10 += int(digit, 16) * (16 ** index)\n",
    "    print(f'0x{hexa} en base 10 = {base_10}')\n",
    "\n",
    "\n",
    "\n"
   ],
   "id": "1b5db837922c6818",
   "outputs": [],
   "execution_count": 53
  },
  {
   "metadata": {
    "ExecuteTime": {
     "end_time": "2025-07-20T00:39:53.568824Z",
     "start_time": "2025-07-20T00:39:53.567003Z"
    }
   },
   "cell_type": "code",
   "source": "hex_output('FF123')",
   "id": "64cb2f7694d55324",
   "outputs": [
    {
     "name": "stdout",
     "output_type": "stream",
     "text": [
      "3 * 16 ** 0\n",
      "2 * 16 ** 1\n",
      "1 * 16 ** 2\n",
      "F * 16 ** 3\n",
      "F * 16 ** 4\n",
      "0xFF123 en base 10 = 1044771\n"
     ]
    }
   ],
   "execution_count": 54
  },
  {
   "metadata": {},
   "cell_type": "code",
   "outputs": [],
   "execution_count": null,
   "source": "",
   "id": "709be1b013531df3"
  }
 ],
 "metadata": {
  "kernelspec": {
   "display_name": "Python 3",
   "language": "python",
   "name": "python3"
  },
  "language_info": {
   "codemirror_mode": {
    "name": "ipython",
    "version": 2
   },
   "file_extension": ".py",
   "mimetype": "text/x-python",
   "name": "python",
   "nbconvert_exporter": "python",
   "pygments_lexer": "ipython2",
   "version": "2.7.6"
  }
 },
 "nbformat": 4,
 "nbformat_minor": 5
}
