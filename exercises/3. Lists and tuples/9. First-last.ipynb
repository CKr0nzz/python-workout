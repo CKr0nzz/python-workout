{
 "cells": [
  {
   "cell_type": "code",
   "id": "initial_id",
   "metadata": {
    "collapsed": true,
    "ExecuteTime": {
     "end_time": "2025-08-12T23:59:46.926095Z",
     "start_time": "2025-08-12T23:59:46.923705Z"
    }
   },
   "source": [
    "# Write a function, firstlast, that takes\n",
    "# a sequence (string, list, or tuple) and returns the first and last elements of that\n",
    "# sequence, in a two-element sequence of the same type. So firstlast('abc') will\n",
    "# return the string ac, while firstlast([1,2,3,4]) will return the list [1,4].\n",
    "\n",
    "\n",
    "# Quand on utilise un slice, ça retourne le même type d'objet\n",
    "def first_last(sequence):\n",
    "    return sequence[:1] + sequence[-1:]\n",
    "\n",
    "\n",
    "\n",
    "\n"
   ],
   "outputs": [],
   "execution_count": 5
  },
  {
   "metadata": {
    "ExecuteTime": {
     "end_time": "2025-08-12T23:59:47.462355Z",
     "start_time": "2025-08-12T23:59:47.460254Z"
    }
   },
   "cell_type": "code",
   "source": "first_last([1,2,3])",
   "id": "da5bbd9765cdb4e0",
   "outputs": [
    {
     "data": {
      "text/plain": [
       "[1, 3]"
      ]
     },
     "execution_count": 6,
     "metadata": {},
     "output_type": "execute_result"
    }
   ],
   "execution_count": 6
  },
  {
   "metadata": {
    "ExecuteTime": {
     "end_time": "2025-08-14T01:12:07.059573Z",
     "start_time": "2025-08-14T01:12:07.057877Z"
    }
   },
   "cell_type": "code",
   "source": [
    "# Write a function that takes a list or tuple of numbers. Return a two-element list,\n",
    "# containing (respectively) the sum of the even-indexed numbers and the sum of\n",
    "# the odd-indexed numbers. So calling the function as even_odd_sums([10, 20,\n",
    "# 30, 40, 50, 60]), you’ll get back [90, 120].\n",
    "\n",
    "\n",
    "def even_odd_sums(any_type):\n",
    "    return [sum(any_type[::2]),sum(any_type[1::2])]\n",
    "\n",
    "\n"
   ],
   "id": "24f753ca2f1d42c3",
   "outputs": [],
   "execution_count": 8
  },
  {
   "metadata": {
    "ExecuteTime": {
     "end_time": "2025-08-14T01:17:43.869917Z",
     "start_time": "2025-08-14T01:17:43.867652Z"
    }
   },
   "cell_type": "code",
   "source": "even_odd_sums([10, 20, 30, 40, 50, 60])",
   "id": "a78bf25daeeb1ab2",
   "outputs": [
    {
     "data": {
      "text/plain": [
       "[90, 120]"
      ]
     },
     "execution_count": 10,
     "metadata": {},
     "output_type": "execute_result"
    }
   ],
   "execution_count": 10
  },
  {
   "metadata": {},
   "cell_type": "code",
   "outputs": [],
   "execution_count": null,
   "source": "",
   "id": "2aa69d9f92792815"
  }
 ],
 "metadata": {
  "kernelspec": {
   "display_name": "Python 3",
   "language": "python",
   "name": "python3"
  },
  "language_info": {
   "codemirror_mode": {
    "name": "ipython",
    "version": 2
   },
   "file_extension": ".py",
   "mimetype": "text/x-python",
   "name": "python",
   "nbconvert_exporter": "python",
   "pygments_lexer": "ipython2",
   "version": "2.7.6"
  }
 },
 "nbformat": 4,
 "nbformat_minor": 5
}
