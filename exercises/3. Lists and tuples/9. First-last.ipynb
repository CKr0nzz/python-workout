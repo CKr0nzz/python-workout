{
 "cells": [
  {
   "cell_type": "code",
   "id": "initial_id",
   "metadata": {
    "collapsed": true,
    "ExecuteTime": {
     "end_time": "2025-08-12T23:59:46.926095Z",
     "start_time": "2025-08-12T23:59:46.923705Z"
    }
   },
   "source": [
    "# Write a function, firstlast, that takes\n",
    "# a sequence (string, list, or tuple) and returns the first and last elements of that\n",
    "# sequence, in a two-element sequence of the same type. So firstlast('abc') will\n",
    "# return the string ac, while firstlast([1,2,3,4]) will return the list [1,4].\n",
    "\n",
    "\n",
    "# Quand on utilise un slice, ça retourne le même type d'objet\n",
    "def first_last(sequence):\n",
    "    return sequence[:1] + sequence[-1:]\n",
    "\n",
    "\n",
    "\n",
    "\n"
   ],
   "outputs": [],
   "execution_count": 5
  },
  {
   "metadata": {
    "ExecuteTime": {
     "end_time": "2025-08-12T23:59:47.462355Z",
     "start_time": "2025-08-12T23:59:47.460254Z"
    }
   },
   "cell_type": "code",
   "source": "first_last([1,2,3])",
   "id": "da5bbd9765cdb4e0",
   "outputs": [
    {
     "data": {
      "text/plain": [
       "[1, 3]"
      ]
     },
     "execution_count": 6,
     "metadata": {},
     "output_type": "execute_result"
    }
   ],
   "execution_count": 6
  },
  {
   "metadata": {},
   "cell_type": "code",
   "outputs": [],
   "execution_count": null,
   "source": "",
   "id": "24f753ca2f1d42c3"
  }
 ],
 "metadata": {
  "kernelspec": {
   "display_name": "Python 3",
   "language": "python",
   "name": "python3"
  },
  "language_info": {
   "codemirror_mode": {
    "name": "ipython",
    "version": 2
   },
   "file_extension": ".py",
   "mimetype": "text/x-python",
   "name": "python",
   "nbconvert_exporter": "python",
   "pygments_lexer": "ipython2",
   "version": "2.7.6"
  }
 },
 "nbformat": 4,
 "nbformat_minor": 5
}
