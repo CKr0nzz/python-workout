{
 "cells": [
  {
   "cell_type": "code",
   "id": "initial_id",
   "metadata": {
    "collapsed": true,
    "ExecuteTime": {
     "end_time": "2025-08-24T22:11:46.516415Z",
     "start_time": "2025-08-24T22:11:46.513909Z"
    }
   },
   "source": [
    "import operator\n",
    "\n",
    "PEOPLE = [{'first': 'Reuven', 'last': 'Lerner',\n",
    "           'email': 'reuven@lerner.co.il'},\n",
    "          {'first': 'Donald', 'last': 'Trump',\n",
    "           'email': 'president@whitehouse.gov'},\n",
    "          {'first': 'Vladimir', 'last': 'Putin',\n",
    "           'email': 'president@kremvax.ru'}\n",
    "          ]\n",
    "\n",
    "\n",
    "# write a function, alphabetize_names, that assumes the existence of a\n",
    "# PEOPLE constant defined as shown in the code. The function should return the list of\n",
    "# dicts, but sorted by last name and then by first name.\n",
    "\n",
    "\n",
    "def alphabetize_names(list_of_dicts):\n",
    "    # key= : c’est l’argument qui dit à sorted() comment comparer les éléments.\n",
    "    return sorted(list_of_dicts, key=operator.itemgetter('last', 'first'))"
   ],
   "outputs": [],
   "execution_count": 1
  },
  {
   "metadata": {
    "ExecuteTime": {
     "end_time": "2025-08-24T22:11:47.740141Z",
     "start_time": "2025-08-24T22:11:47.738406Z"
    }
   },
   "cell_type": "code",
   "source": "print(alphabetize_names(PEOPLE))",
   "id": "74a4c8a24f09ea93",
   "outputs": [
    {
     "name": "stdout",
     "output_type": "stream",
     "text": [
      "[{'first': 'Reuven', 'last': 'Lerner', 'email': 'reuven@lerner.co.il'}, {'first': 'Vladimir', 'last': 'Putin', 'email': 'president@kremvax.ru'}, {'first': 'Donald', 'last': 'Trump', 'email': 'president@whitehouse.gov'}]\n"
     ]
    }
   ],
   "execution_count": 2
  },
  {
   "metadata": {},
   "cell_type": "code",
   "outputs": [],
   "execution_count": null,
   "source": "",
   "id": "604060bd46c7497e"
  }
 ],
 "metadata": {
  "kernelspec": {
   "display_name": "Python 3",
   "language": "python",
   "name": "python3"
  },
  "language_info": {
   "codemirror_mode": {
    "name": "ipython",
    "version": 2
   },
   "file_extension": ".py",
   "mimetype": "text/x-python",
   "name": "python",
   "nbconvert_exporter": "python",
   "pygments_lexer": "ipython2",
   "version": "2.7.6"
  }
 },
 "nbformat": 4,
 "nbformat_minor": 5
}
