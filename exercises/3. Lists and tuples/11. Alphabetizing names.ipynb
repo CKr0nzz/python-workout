{
 "cells": [
  {
   "cell_type": "code",
   "id": "initial_id",
   "metadata": {
    "collapsed": true,
    "ExecuteTime": {
     "end_time": "2025-08-24T22:11:46.516415Z",
     "start_time": "2025-08-24T22:11:46.513909Z"
    }
   },
   "source": [
    "import operator\n",
    "\n",
    "PEOPLE = [{'first': 'Reuven', 'last': 'Lerner',\n",
    "           'email': 'reuven@lerner.co.il'},\n",
    "          {'first': 'Donald', 'last': 'Trump',\n",
    "           'email': 'president@whitehouse.gov'},\n",
    "          {'first': 'Vladimir', 'last': 'Putin',\n",
    "           'email': 'president@kremvax.ru'}\n",
    "          ]\n",
    "\n",
    "\n",
    "# write a function, alphabetize_names, that assumes the existence of a\n",
    "# PEOPLE constant defined as shown in the code. The function should return the list of\n",
    "# dicts, but sorted by last name and then by first name.\n",
    "\n",
    "\n",
    "def alphabetize_names(list_of_dicts):\n",
    "    # key= : c’est l’argument qui dit à sorted() comment comparer les éléments.\n",
    "    return sorted(list_of_dicts, key=operator.itemgetter('last', 'first'))"
   ],
   "outputs": [],
   "execution_count": 1
  },
  {
   "metadata": {
    "ExecuteTime": {
     "end_time": "2025-08-24T22:11:47.740141Z",
     "start_time": "2025-08-24T22:11:47.738406Z"
    }
   },
   "cell_type": "code",
   "source": "print(alphabetize_names(PEOPLE))",
   "id": "74a4c8a24f09ea93",
   "outputs": [
    {
     "name": "stdout",
     "output_type": "stream",
     "text": [
      "[{'first': 'Reuven', 'last': 'Lerner', 'email': 'reuven@lerner.co.il'}, {'first': 'Vladimir', 'last': 'Putin', 'email': 'president@kremvax.ru'}, {'first': 'Donald', 'last': 'Trump', 'email': 'president@whitehouse.gov'}]\n"
     ]
    }
   ],
   "execution_count": 2
  },
  {
   "metadata": {
    "ExecuteTime": {
     "end_time": "2025-08-29T21:51:04.394507Z",
     "start_time": "2025-08-29T21:51:04.392755Z"
    }
   },
   "cell_type": "code",
   "source": [
    "# Given a sequence of positive and negative numbers, sort them by absolute value.\n",
    "\n",
    "\n",
    "\n",
    "def absolute_value(value):\n",
    "    return sorted(value, key=abs)\n",
    "\n"
   ],
   "id": "604060bd46c7497e",
   "outputs": [],
   "execution_count": 4
  },
  {
   "metadata": {
    "ExecuteTime": {
     "end_time": "2025-08-29T21:51:05.619937Z",
     "start_time": "2025-08-29T21:51:05.617258Z"
    }
   },
   "cell_type": "code",
   "source": [
    "sequence = [3,-5,1,2,6,-69,1337,-29]\n",
    "absolute_value(sequence)"
   ],
   "id": "204d091613a6a8da",
   "outputs": [
    {
     "data": {
      "text/plain": [
       "[1, 2, 3, -5, 6, -29, -69, 1337]"
      ]
     },
     "execution_count": 5,
     "metadata": {},
     "output_type": "execute_result"
    }
   ],
   "execution_count": 5
  },
  {
   "metadata": {
    "ExecuteTime": {
     "end_time": "2025-08-29T22:58:55.689058Z",
     "start_time": "2025-08-29T22:58:55.687378Z"
    }
   },
   "cell_type": "code",
   "source": [
    "# Given a list of strings, sort them according to how many vowels they contain.\n",
    "\n",
    "def vowel_count(word):\n",
    "    compteur = 0\n",
    "    for item in word.lower():\n",
    "        if item in 'aeiou':\n",
    "            compteur += 1\n",
    "    return compteur\n",
    "\n",
    "\n",
    "def sort_by_vowels(list_of_strings):\n",
    "    return sorted(list_of_strings, key=vowel_count)"
   ],
   "id": "6ee1fb728b01c793",
   "outputs": [],
   "execution_count": 18
  },
  {
   "metadata": {
    "ExecuteTime": {
     "end_time": "2025-08-29T22:58:55.854690Z",
     "start_time": "2025-08-29T22:58:55.853098Z"
    }
   },
   "cell_type": "code",
   "source": [
    "strings = [\"testing\", \"hello\", \"bye\"]\n",
    "print(sort_by_vowels(strings))"
   ],
   "id": "137a5ae176c93e58",
   "outputs": [
    {
     "name": "stdout",
     "output_type": "stream",
     "text": [
      "['bye', 'testing', 'hello']\n"
     ]
    }
   ],
   "execution_count": 19
  },
  {
   "metadata": {
    "ExecuteTime": {
     "end_time": "2025-08-31T00:24:13.359630Z",
     "start_time": "2025-08-31T00:24:13.357082Z"
    }
   },
   "cell_type": "code",
   "source": [
    "# Given a list of lists, with each list containing zero or more numbers, sort by the\n",
    "# sum of each inner list’s numbers.\n",
    "\n",
    "list_of_list = [[1,2,3],[2,3,5],[4,5,6],[]]\n",
    "\n",
    "def sum_of_lists(lists):\n",
    "    return sorted(lists, key=sum)"
   ],
   "id": "db090c66a4c2de47",
   "outputs": [],
   "execution_count": 1
  },
  {
   "metadata": {
    "ExecuteTime": {
     "end_time": "2025-08-31T00:24:24.421922Z",
     "start_time": "2025-08-31T00:24:24.418680Z"
    }
   },
   "cell_type": "code",
   "source": "sum_of_lists(list_of_list)",
   "id": "34a1c9a2ec2b311",
   "outputs": [
    {
     "data": {
      "text/plain": [
       "[[], [1, 2, 3], [2, 3, 5], [4, 5, 6]]"
      ]
     },
     "execution_count": 2,
     "metadata": {},
     "output_type": "execute_result"
    }
   ],
   "execution_count": 2
  },
  {
   "metadata": {},
   "cell_type": "code",
   "outputs": [],
   "execution_count": null,
   "source": "",
   "id": "edf2d2a2d944154"
  }
 ],
 "metadata": {
  "kernelspec": {
   "display_name": "Python 3",
   "language": "python",
   "name": "python3"
  },
  "language_info": {
   "codemirror_mode": {
    "name": "ipython",
    "version": 2
   },
   "file_extension": ".py",
   "mimetype": "text/x-python",
   "name": "python",
   "nbconvert_exporter": "python",
   "pygments_lexer": "ipython2",
   "version": "2.7.6"
  }
 },
 "nbformat": 4,
 "nbformat_minor": 5
}
