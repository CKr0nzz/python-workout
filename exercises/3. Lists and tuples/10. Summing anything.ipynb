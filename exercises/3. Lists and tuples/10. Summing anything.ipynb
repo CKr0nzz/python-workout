{
 "cells": [
  {
   "cell_type": "code",
   "id": "initial_id",
   "metadata": {
    "collapsed": true,
    "ExecuteTime": {
     "end_time": "2025-08-19T23:51:36.777559Z",
     "start_time": "2025-08-19T23:51:36.775887Z"
    }
   },
   "source": [
    "def mysum(*items):\n",
    "    # * = prends tous les arguments positionnels restants et mets-les dans un tuple\n",
    "    if not items:\n",
    "        return items\n",
    "    # Pour avoir le base value (string, int, etc)\n",
    "    output = items[0]\n",
    "    for item in items[1:]:\n",
    "        output += item\n",
    "    return output\n",
    "\n"
   ],
   "outputs": [],
   "execution_count": 13
  },
  {
   "metadata": {
    "ExecuteTime": {
     "end_time": "2025-08-19T23:51:37.001172Z",
     "start_time": "2025-08-19T23:51:36.999486Z"
    }
   },
   "cell_type": "code",
   "source": "mysum(10, 20, 30, 40)",
   "id": "7ac130ec617ca47d",
   "outputs": [
    {
     "data": {
      "text/plain": [
       "100"
      ]
     },
     "execution_count": 14,
     "metadata": {},
     "output_type": "execute_result"
    }
   ],
   "execution_count": 14
  },
  {
   "metadata": {
    "ExecuteTime": {
     "end_time": "2025-08-19T23:51:37.368873Z",
     "start_time": "2025-08-19T23:51:37.367310Z"
    }
   },
   "cell_type": "code",
   "source": "mysum(\"a\",\"b\",\"c\",\"d\")",
   "id": "7ea038aa21613cc2",
   "outputs": [
    {
     "data": {
      "text/plain": [
       "'abcd'"
      ]
     },
     "execution_count": 15,
     "metadata": {},
     "output_type": "execute_result"
    }
   ],
   "execution_count": 15
  },
  {
   "metadata": {},
   "cell_type": "code",
   "outputs": [],
   "execution_count": null,
   "source": "",
   "id": "374a993777d010ac"
  }
 ],
 "metadata": {
  "kernelspec": {
   "display_name": "Python 3",
   "language": "python",
   "name": "python3"
  },
  "language_info": {
   "codemirror_mode": {
    "name": "ipython",
    "version": 2
   },
   "file_extension": ".py",
   "mimetype": "text/x-python",
   "name": "python",
   "nbconvert_exporter": "python",
   "pygments_lexer": "ipython2",
   "version": "2.7.6"
  }
 },
 "nbformat": 4,
 "nbformat_minor": 5
}
