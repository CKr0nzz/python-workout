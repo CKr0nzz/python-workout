{
 "cells": [
  {
   "cell_type": "code",
   "id": "initial_id",
   "metadata": {
    "collapsed": true,
    "ExecuteTime": {
     "end_time": "2025-08-19T23:51:36.777559Z",
     "start_time": "2025-08-19T23:51:36.775887Z"
    }
   },
   "source": [
    "def mysum(*items):\n",
    "    # * = prends tous les arguments positionnels restants et mets-les dans un tuple\n",
    "    if not items:\n",
    "        return items\n",
    "    # Pour avoir le base value (string, int, etc)\n",
    "    output = items[0]\n",
    "    for item in items[1:]:\n",
    "        output += item\n",
    "    return output\n",
    "\n"
   ],
   "outputs": [],
   "execution_count": 13
  },
  {
   "metadata": {
    "ExecuteTime": {
     "end_time": "2025-08-19T23:51:37.001172Z",
     "start_time": "2025-08-19T23:51:36.999486Z"
    }
   },
   "cell_type": "code",
   "source": "mysum(10, 20, 30, 40)",
   "id": "7ac130ec617ca47d",
   "outputs": [
    {
     "data": {
      "text/plain": [
       "100"
      ]
     },
     "execution_count": 14,
     "metadata": {},
     "output_type": "execute_result"
    }
   ],
   "execution_count": 14
  },
  {
   "metadata": {
    "ExecuteTime": {
     "end_time": "2025-08-19T23:51:37.368873Z",
     "start_time": "2025-08-19T23:51:37.367310Z"
    }
   },
   "cell_type": "code",
   "source": "mysum(\"a\",\"b\",\"c\",\"d\")",
   "id": "7ea038aa21613cc2",
   "outputs": [
    {
     "data": {
      "text/plain": [
       "'abcd'"
      ]
     },
     "execution_count": 15,
     "metadata": {},
     "output_type": "execute_result"
    }
   ],
   "execution_count": 15
  },
  {
   "metadata": {
    "ExecuteTime": {
     "end_time": "2025-08-20T23:26:36.292704Z",
     "start_time": "2025-08-20T23:26:36.289383Z"
    }
   },
   "cell_type": "code",
   "source": [
    "# Write a function, mysum_bigger_than, that works the same as mysum, except that\n",
    "# it takes a first argument that precedes *args. That argument indicates the\n",
    "# threshold for including an argument in the sum. Thus, calling mysum_bigger\n",
    "# _than(10, 5, 20, 30, 6) would return 50—because 5 and 6 aren’t greater than\n",
    "# 10. This function should similarly work with any type and assumes that all of the\n",
    "# arguments are of the same type. Note that > and < work on many different types\n",
    "# in Python, not just on numbers; with strings, lists, and tuples, it refers to their\n",
    "# sort order.\n",
    "\n",
    "\n",
    "def mysum_bigger_than(threshold, *args):\n",
    "    if not  args:\n",
    "        return args\n",
    "    output = 0\n",
    "    for item in args:\n",
    "        if item > threshold:\n",
    "            output += item\n",
    "    return output\n"
   ],
   "id": "374a993777d010ac",
   "outputs": [],
   "execution_count": 19
  },
  {
   "metadata": {
    "ExecuteTime": {
     "end_time": "2025-08-20T23:26:36.519356Z",
     "start_time": "2025-08-20T23:26:36.516033Z"
    }
   },
   "cell_type": "code",
   "source": "mysum_bigger_than(10,5,20,30,6)",
   "id": "9914d328bdd124d2",
   "outputs": [
    {
     "data": {
      "text/plain": [
       "50"
      ]
     },
     "execution_count": 20,
     "metadata": {},
     "output_type": "execute_result"
    }
   ],
   "execution_count": 20
  },
  {
   "metadata": {
    "ExecuteTime": {
     "end_time": "2025-08-22T00:06:10.600964Z",
     "start_time": "2025-08-22T00:06:10.599106Z"
    }
   },
   "cell_type": "code",
   "source": [
    "# Write a function, sum_numeric, that takes any number of arguments. If the\n",
    "# argument is or can be turned into an integer, then it should be added to the\n",
    "# total. Arguments that can’t be handled as integers should be ignored. The\n",
    "# result is the sum of the numbers. Thus, sum_numeric(10, 20, 'a', '30',\n",
    "# 'bcd') would return 60. Notice that even if the string 30 is an element in the\n",
    "# list, it’s converted into an integer and added to the total.\n",
    "\n",
    "\n",
    "def sum_numerique(*args):\n",
    "    total = 0\n",
    "    for item in args:\n",
    "        try:\n",
    "            total += int(item)   # essaie de convertir en entier\n",
    "        except (ValueError, TypeError):\n",
    "            continue             # ignore si ce n'est pas convertible\n",
    "    return total"
   ],
   "id": "e1e7b9e7352f2630",
   "outputs": [],
   "execution_count": 15
  },
  {
   "metadata": {
    "ExecuteTime": {
     "end_time": "2025-08-22T00:06:10.785231Z",
     "start_time": "2025-08-22T00:06:10.783303Z"
    }
   },
   "cell_type": "code",
   "source": "sum_numerique(10, 20, 'a', '30','bcd')",
   "id": "6a8cf99051121206",
   "outputs": [
    {
     "data": {
      "text/plain": [
       "60"
      ]
     },
     "execution_count": 16,
     "metadata": {},
     "output_type": "execute_result"
    }
   ],
   "execution_count": 16
  },
  {
   "metadata": {
    "ExecuteTime": {
     "end_time": "2025-08-23T23:54:09.113568Z",
     "start_time": "2025-08-23T23:54:09.111670Z"
    }
   },
   "cell_type": "code",
   "source": [
    "# Write a function that takes a list of dicts and returns a single dict that combines\n",
    "# all of the keys and values. If a key appears in more than one argument, the\n",
    "# value should be a list containing all of the values from the arguments.\n",
    "\n",
    "def dict_combine(*dict_list):\n",
    "    combined = {}\n",
    "    for d in dict_list:\n",
    "        for key, value in d.items():\n",
    "            if key in combined:\n",
    "                combined[key].append(value)\n",
    "            else:\n",
    "                combined[key] = [value]   # toujours une liste, car int ou str != .append()\n",
    "    return combined\n"
   ],
   "id": "9632f54ae946d269",
   "outputs": [],
   "execution_count": 9
  },
  {
   "metadata": {
    "ExecuteTime": {
     "end_time": "2025-08-23T23:54:09.507189Z",
     "start_time": "2025-08-23T23:54:09.504782Z"
    }
   },
   "cell_type": "code",
   "source": [
    "dico1 = {\n",
    "  \"brand\": \"Ford\",\n",
    "  \"model\": \"Mustang\",\n",
    "  \"year\": 1964\n",
    "}\n",
    "\n",
    "dico2 = {\n",
    "  \"brand\": \"Tesla\",\n",
    "  \"model\": \"S\",\n",
    "  \"year\": 2015\n",
    "}\n",
    "\n",
    "dict_combine(dico1, dico2)\n",
    "\n",
    "\n"
   ],
   "id": "b9eb221f9762a645",
   "outputs": [
    {
     "data": {
      "text/plain": [
       "{'brand': ['Ford', 'Tesla'], 'model': ['Mustang', 'S'], 'year': [1964, 2015]}"
      ]
     },
     "execution_count": 10,
     "metadata": {},
     "output_type": "execute_result"
    }
   ],
   "execution_count": 10
  },
  {
   "metadata": {},
   "cell_type": "code",
   "outputs": [],
   "execution_count": null,
   "source": "",
   "id": "cb649a4a5ac7fe21"
  }
 ],
 "metadata": {
  "kernelspec": {
   "display_name": "Python 3",
   "language": "python",
   "name": "python3"
  },
  "language_info": {
   "codemirror_mode": {
    "name": "ipython",
    "version": 2
   },
   "file_extension": ".py",
   "mimetype": "text/x-python",
   "name": "python",
   "nbconvert_exporter": "python",
   "pygments_lexer": "ipython2",
   "version": "2.7.6"
  }
 },
 "nbformat": 4,
 "nbformat_minor": 5
}
