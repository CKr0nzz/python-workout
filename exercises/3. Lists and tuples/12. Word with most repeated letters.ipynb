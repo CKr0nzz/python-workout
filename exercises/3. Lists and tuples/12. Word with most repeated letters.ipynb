{
 "cells": [
  {
   "cell_type": "code",
   "id": "initial_id",
   "metadata": {
    "collapsed": true,
    "ExecuteTime": {
     "end_time": "2025-09-01T19:51:05.661037Z",
     "start_time": "2025-09-01T19:51:05.658329Z"
    }
   },
   "source": [
    "from typing import Counter\n",
    "\n",
    "# Write a function, most_repeating_word, that takes a sequence of strings as input. The\n",
    "# function should return the string that contains the greatest number of repeated let-\n",
    "# ters.\n",
    "words = ['this', 'is', 'an', 'elementary', 'test', 'example']\n",
    "\n",
    "def most_repeating_letter_count(word):\n",
    "    # (1)[0][1]:\n",
    "    # .most_common(1) retourne une liste avec un seul élément [('a', 3)],\n",
    "    # [0] = On veut le premier element de la liste (un tuple)\n",
    "    # [1] = On veut le compte à l'index 1 du tuple\n",
    "    return Counter(word).most_common(1)[0][1]\n",
    "\n",
    "\n",
    "def most_repeating_word(words):\n",
    "    return max(words, key=most_repeating_letter_count)\n",
    "\n"
   ],
   "outputs": [],
   "execution_count": 1
  },
  {
   "metadata": {
    "ExecuteTime": {
     "end_time": "2025-09-01T19:51:18.637477Z",
     "start_time": "2025-09-01T19:51:18.634734Z"
    }
   },
   "cell_type": "code",
   "source": "most_repeating_word(words)",
   "id": "85d57aca71421b7c",
   "outputs": [
    {
     "data": {
      "text/plain": [
       "'elementary'"
      ]
     },
     "execution_count": 2,
     "metadata": {},
     "output_type": "execute_result"
    }
   ],
   "execution_count": 2
  },
  {
   "metadata": {},
   "cell_type": "code",
   "outputs": [],
   "execution_count": null,
   "source": "",
   "id": "fd1f254a32c2f80a"
  }
 ],
 "metadata": {
  "kernelspec": {
   "display_name": "Python 3",
   "language": "python",
   "name": "python3"
  },
  "language_info": {
   "codemirror_mode": {
    "name": "ipython",
    "version": 2
   },
   "file_extension": ".py",
   "mimetype": "text/x-python",
   "name": "python",
   "nbconvert_exporter": "python",
   "pygments_lexer": "ipython2",
   "version": "2.7.6"
  }
 },
 "nbformat": 4,
 "nbformat_minor": 5
}
