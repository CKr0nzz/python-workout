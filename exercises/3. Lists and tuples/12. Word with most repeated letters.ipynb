{
 "cells": [
  {
   "cell_type": "code",
   "id": "initial_id",
   "metadata": {
    "collapsed": true,
    "ExecuteTime": {
     "end_time": "2025-09-02T23:15:02.009618Z",
     "start_time": "2025-09-02T23:15:02.007678Z"
    }
   },
   "source": [
    "from typing import Counter\n",
    "\n",
    "# Write a function, most_repeating_word, that takes a sequence of strings as input. The\n",
    "# function should return the string that contains the greatest number of repeated let-\n",
    "# ters.\n",
    "words = ['this', 'is', 'an', 'elementary', 'test', 'example']\n",
    "\n",
    "def most_repeating_letter_count(word):\n",
    "    # (1)[0][1]:\n",
    "    # .most_common(1) retourne une liste avec un seul élément [('a', 3)],\n",
    "    # [0] = On veut le premier element de la liste (un tuple)\n",
    "    # [1] = On veut le compte à l'index 1 du tuple\n",
    "    return Counter(word).most_common(1)[0][1]\n",
    "\n",
    "\n",
    "def most_repeating_word(words):\n",
    "    return max(words, key=most_repeating_letter_count)\n",
    "\n"
   ],
   "outputs": [],
   "execution_count": 27
  },
  {
   "metadata": {
    "ExecuteTime": {
     "end_time": "2025-09-02T23:15:02.241997Z",
     "start_time": "2025-09-02T23:15:02.240068Z"
    }
   },
   "cell_type": "code",
   "source": "most_repeating_word(words)",
   "id": "85d57aca71421b7c",
   "outputs": [
    {
     "data": {
      "text/plain": [
       "'elementary'"
      ]
     },
     "execution_count": 28,
     "metadata": {},
     "output_type": "execute_result"
    }
   ],
   "execution_count": 28
  },
  {
   "metadata": {
    "ExecuteTime": {
     "end_time": "2025-09-02T23:18:35.920899Z",
     "start_time": "2025-09-02T23:18:35.919025Z"
    }
   },
   "cell_type": "code",
   "source": [
    "# Instead of finding the word with the greatest number of repeated letters, find\n",
    "# the word with the greatest number of repeated vowels.\n",
    "from typing import Counter\n",
    "\n",
    "def most_repeated_vowel(word):\n",
    "    c = Counter([char for char in word.lower() if char in \"aeiou\"])\n",
    "    if not c:  # si aucune voyelle\n",
    "        return 0\n",
    "    return c.most_common(1)[0][1]\n",
    "\n",
    "\n",
    "def greatest_vowels(words):\n",
    "    return max(words, key=most_repeated_vowel)"
   ],
   "id": "fd1f254a32c2f80a",
   "outputs": [],
   "execution_count": 34
  },
  {
   "metadata": {
    "ExecuteTime": {
     "end_time": "2025-09-02T23:18:36.104243Z",
     "start_time": "2025-09-02T23:18:36.102318Z"
    }
   },
   "cell_type": "code",
   "source": "greatest_vowels(words)",
   "id": "7047a37238c71b0a",
   "outputs": [
    {
     "data": {
      "text/plain": [
       "'elementary'"
      ]
     },
     "execution_count": 35,
     "metadata": {},
     "output_type": "execute_result"
    }
   ],
   "execution_count": 35
  },
  {
   "metadata": {
    "ExecuteTime": {
     "end_time": "2025-09-02T23:12:37.865569Z",
     "start_time": "2025-09-02T23:12:37.864315Z"
    }
   },
   "cell_type": "code",
   "source": "",
   "id": "9cc8b24985808adb",
   "outputs": [],
   "execution_count": null
  },
  {
   "metadata": {},
   "cell_type": "code",
   "outputs": [],
   "execution_count": null,
   "source": "",
   "id": "b14016448f258a49"
  }
 ],
 "metadata": {
  "kernelspec": {
   "display_name": "Python 3",
   "language": "python",
   "name": "python3"
  },
  "language_info": {
   "codemirror_mode": {
    "name": "ipython",
    "version": 2
   },
   "file_extension": ".py",
   "mimetype": "text/x-python",
   "name": "python",
   "nbconvert_exporter": "python",
   "pygments_lexer": "ipython2",
   "version": "2.7.6"
  }
 },
 "nbformat": 4,
 "nbformat_minor": 5
}
