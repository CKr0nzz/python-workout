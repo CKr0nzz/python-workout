{
 "cells": [
  {
   "cell_type": "code",
   "id": "initial_id",
   "metadata": {
    "collapsed": true,
    "ExecuteTime": {
     "end_time": "2025-09-02T23:15:02.009618Z",
     "start_time": "2025-09-02T23:15:02.007678Z"
    }
   },
   "source": [
    "from typing import Counter\n",
    "\n",
    "# Write a function, most_repeating_word, that takes a sequence of strings as input. The\n",
    "# function should return the string that contains the greatest number of repeated let-\n",
    "# ters.\n",
    "words = ['this', 'is', 'an', 'elementary', 'test', 'example']\n",
    "\n",
    "def most_repeating_letter_count(word):\n",
    "    # (1)[0][1]:\n",
    "    # .most_common(1) retourne une liste avec un seul élément [('a', 3)],\n",
    "    # [0] = On veut le premier element de la liste (un tuple)\n",
    "    # [1] = On veut le compte à l'index 1 du tuple\n",
    "    return Counter(word).most_common(1)[0][1]\n",
    "\n",
    "\n",
    "def most_repeating_word(words):\n",
    "    return max(words, key=most_repeating_letter_count)\n",
    "\n"
   ],
   "outputs": [],
   "execution_count": 27
  },
  {
   "metadata": {
    "ExecuteTime": {
     "end_time": "2025-09-02T23:15:02.241997Z",
     "start_time": "2025-09-02T23:15:02.240068Z"
    }
   },
   "cell_type": "code",
   "source": "most_repeating_word(words)",
   "id": "85d57aca71421b7c",
   "outputs": [
    {
     "data": {
      "text/plain": [
       "'elementary'"
      ]
     },
     "execution_count": 28,
     "metadata": {},
     "output_type": "execute_result"
    }
   ],
   "execution_count": 28
  },
  {
   "metadata": {
    "ExecuteTime": {
     "end_time": "2025-09-02T23:18:35.920899Z",
     "start_time": "2025-09-02T23:18:35.919025Z"
    }
   },
   "cell_type": "code",
   "source": [
    "# Instead of finding the word with the greatest number of repeated letters, find\n",
    "# the word with the greatest number of repeated vowels.\n",
    "from typing import Counter\n",
    "\n",
    "def most_repeated_vowel(word):\n",
    "    c = Counter([char for char in word.lower() if char in \"aeiou\"])\n",
    "    if not c:  # si aucune voyelle\n",
    "        return 0\n",
    "    return c.most_common(1)[0][1]\n",
    "\n",
    "\n",
    "def greatest_vowels(words):\n",
    "    return max(words, key=most_repeated_vowel)"
   ],
   "id": "fd1f254a32c2f80a",
   "outputs": [],
   "execution_count": 34
  },
  {
   "metadata": {
    "ExecuteTime": {
     "end_time": "2025-09-02T23:18:36.104243Z",
     "start_time": "2025-09-02T23:18:36.102318Z"
    }
   },
   "cell_type": "code",
   "source": "greatest_vowels(words)",
   "id": "7047a37238c71b0a",
   "outputs": [
    {
     "data": {
      "text/plain": [
       "'elementary'"
      ]
     },
     "execution_count": 35,
     "metadata": {},
     "output_type": "execute_result"
    }
   ],
   "execution_count": 35
  },
  {
   "metadata": {
    "ExecuteTime": {
     "end_time": "2025-09-06T23:54:30.175841Z",
     "start_time": "2025-09-06T23:54:30.173977Z"
    }
   },
   "cell_type": "code",
   "source": [
    "# Write a program to read /etc/passwd on a Unix computer. The first field contains\n",
    "# the username, and the final field contains the user’s shell, the command inter-\n",
    "# preter. Display the shells in decreasing order of popularity, such that the most pop-\n",
    "# ular shell is shown first, the second most popular shell second, and so forth.\n",
    "from typing import Counter\n",
    "\n",
    "def read_passwd():\n",
    "    shells = []\n",
    "    with open(\"/etc/passwd\", \"r\") as f:\n",
    "        for line in f:\n",
    "            parts = line.strip().split(\":\")\n",
    "            shells.append(parts[-1])\n",
    "\n",
    "    c = Counter(shells)\n",
    "    return c.most_common()\n"
   ],
   "id": "9cc8b24985808adb",
   "outputs": [],
   "execution_count": 9
  },
  {
   "metadata": {
    "ExecuteTime": {
     "end_time": "2025-09-06T23:54:30.512123Z",
     "start_time": "2025-09-06T23:54:30.510187Z"
    }
   },
   "cell_type": "code",
   "source": "read_passwd()",
   "id": "b14016448f258a49",
   "outputs": [
    {
     "data": {
      "text/plain": [
       "[('/usr/bin/nologin', 36),\n",
       " ('/usr/bin/bash', 1),\n",
       " ('/usr/bin/git-shell', 1),\n",
       " ('/bin/false', 1),\n",
       " ('/bin/bash', 1)]"
      ]
     },
     "execution_count": 10,
     "metadata": {},
     "output_type": "execute_result"
    }
   ],
   "execution_count": 10
  },
  {
   "metadata": {
    "ExecuteTime": {
     "end_time": "2025-09-07T00:15:51.703591Z",
     "start_time": "2025-09-07T00:15:51.701281Z"
    }
   },
   "cell_type": "code",
   "source": [
    "# For an added challenge, after displaying each shell, also show the usernames (sorted alphabetically) who use each of those shells.\n",
    "\n",
    "from collections import Counter, defaultdict\n",
    "\n",
    "def read_passwd2(filename=\"/etc/passwd\"):\n",
    "    shells = []\n",
    "    # On doit utiliser defaultdict car la clé n'existe pas\n",
    "    users_by_shell = defaultdict(list)\n",
    "\n",
    "    with open(filename, \"r\") as f:\n",
    "        for line in f:\n",
    "            parts = line.strip().split(\":\")\n",
    "            username, shell = parts[0], parts[-1]\n",
    "            shells.append(shell)\n",
    "            users_by_shell[shell].append(username)\n",
    "\n",
    "    # Compter la popularité des shells\n",
    "    shell_counts = Counter(shells)\n",
    "\n",
    "    # Trier par popularité décroissante\n",
    "    for shell, count in shell_counts.most_common():\n",
    "        print(f\"{shell} ({count} users)\")\n",
    "        for user in sorted(users_by_shell[shell]):\n",
    "            print(f\"  - {user}\")"
   ],
   "id": "22053360f5b9fd12",
   "outputs": [],
   "execution_count": 21
  },
  {
   "metadata": {
    "ExecuteTime": {
     "end_time": "2025-09-07T00:15:51.926623Z",
     "start_time": "2025-09-07T00:15:51.924610Z"
    }
   },
   "cell_type": "code",
   "source": "read_passwd2()",
   "id": "15dbe3db9d8086a9",
   "outputs": [
    {
     "name": "stdout",
     "output_type": "stream",
     "text": [
      "/usr/bin/nologin (36 users)\n",
      "  - _talkd\n",
      "  - alpm\n",
      "  - avahi\n",
      "  - bin\n",
      "  - colord\n",
      "  - cups\n",
      "  - daemon\n",
      "  - dbus\n",
      "  - dnsmasq\n",
      "  - ftp\n",
      "  - gdm\n",
      "  - geoclue\n",
      "  - http\n",
      "  - libvirt-qemu\n",
      "  - mail\n",
      "  - named\n",
      "  - nm-openconnect\n",
      "  - nm-openvpn\n",
      "  - nobody\n",
      "  - nvidia-persistenced\n",
      "  - openvpn\n",
      "  - polkitd\n",
      "  - qemu\n",
      "  - rpc\n",
      "  - rpcuser\n",
      "  - rtkit\n",
      "  - saned\n",
      "  - systemd-coredump\n",
      "  - systemd-journal-remote\n",
      "  - systemd-network\n",
      "  - systemd-oom\n",
      "  - systemd-resolve\n",
      "  - systemd-timesync\n",
      "  - tss\n",
      "  - usbmux\n",
      "  - uuidd\n",
      "/usr/bin/bash (1 users)\n",
      "  - root\n",
      "/usr/bin/git-shell (1 users)\n",
      "  - git\n",
      "/bin/false (1 users)\n",
      "  - ntp\n",
      "/bin/bash (1 users)\n",
      "  - colin\n"
     ]
    }
   ],
   "execution_count": 22
  },
  {
   "metadata": {},
   "cell_type": "code",
   "outputs": [],
   "execution_count": null,
   "source": "",
   "id": "858a1663cc9f23c5"
  }
 ],
 "metadata": {
  "kernelspec": {
   "display_name": "Python 3",
   "language": "python",
   "name": "python3"
  },
  "language_info": {
   "codemirror_mode": {
    "name": "ipython",
    "version": 2
   },
   "file_extension": ".py",
   "mimetype": "text/x-python",
   "name": "python",
   "nbconvert_exporter": "python",
   "pygments_lexer": "ipython2",
   "version": "2.7.6"
  }
 },
 "nbformat": 4,
 "nbformat_minor": 5
}
