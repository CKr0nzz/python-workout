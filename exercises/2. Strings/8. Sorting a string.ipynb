{
 "cells": [
  {
   "cell_type": "code",
   "id": "initial_id",
   "metadata": {
    "collapsed": true,
    "ExecuteTime": {
     "end_time": "2025-08-07T00:00:32.703996Z",
     "start_time": "2025-08-07T00:00:32.701707Z"
    }
   },
   "source": [
    "# Write a function that takes a single string as its input and returns a string. The returned string should contain the same characters as the input, except that its characters should be sorted in order, from the lowest Unicode value to the highest Unicode value. For example, the result of invoking strsort('cba') will be the string abc.\n",
    "\n",
    "def strsort(string: str) -> str:\n",
    "    temp = sorted(string)\n",
    "    return ''.join(temp)\n",
    "\n",
    "# tri par insertion\n",
    "\n",
    "def strsort2(string: str) -> str:\n",
    "    temp = list(string)\n",
    "\n",
    "    for i in range(1, len(temp)):\n",
    "        key = temp[i]\n",
    "        j = i - 1\n",
    "\n",
    "        while j >= 0 and ord(temp[j]) > ord(key):\n",
    "            temp[j + 1] = temp[j]\n",
    "            j -= 1\n",
    "        temp[j + 1] = key\n",
    "\n",
    "    return ''.join(temp)\n",
    "\n"
   ],
   "outputs": [],
   "execution_count": 3
  },
  {
   "metadata": {
    "ExecuteTime": {
     "end_time": "2025-08-07T00:00:33.506590Z",
     "start_time": "2025-08-07T00:00:33.504658Z"
    }
   },
   "cell_type": "code",
   "source": "strsort('cba')",
   "id": "81de0824423bcc1e",
   "outputs": [
    {
     "data": {
      "text/plain": [
       "'abc'"
      ]
     },
     "execution_count": 4,
     "metadata": {},
     "output_type": "execute_result"
    }
   ],
   "execution_count": 4
  },
  {
   "metadata": {
    "ExecuteTime": {
     "end_time": "2025-08-07T00:00:33.843355Z",
     "start_time": "2025-08-07T00:00:33.841675Z"
    }
   },
   "cell_type": "code",
   "source": "strsort2('cba')",
   "id": "1e7cde899984bac5",
   "outputs": [
    {
     "data": {
      "text/plain": [
       "'abc'"
      ]
     },
     "execution_count": 5,
     "metadata": {},
     "output_type": "execute_result"
    }
   ],
   "execution_count": 5
  },
  {
   "metadata": {},
   "cell_type": "code",
   "outputs": [],
   "execution_count": null,
   "source": "",
   "id": "357d243ac525864"
  }
 ],
 "metadata": {
  "kernelspec": {
   "display_name": "Python 3",
   "language": "python",
   "name": "python3"
  },
  "language_info": {
   "codemirror_mode": {
    "name": "ipython",
    "version": 2
   },
   "file_extension": ".py",
   "mimetype": "text/x-python",
   "name": "python",
   "nbconvert_exporter": "python",
   "pygments_lexer": "ipython2",
   "version": "2.7.6"
  }
 },
 "nbformat": 4,
 "nbformat_minor": 5
}
