{
 "cells": [
  {
   "cell_type": "code",
   "id": "initial_id",
   "metadata": {
    "collapsed": true,
    "ExecuteTime": {
     "end_time": "2025-07-24T00:39:22.640523Z",
     "start_time": "2025-07-24T00:39:22.638802Z"
    }
   },
   "source": [
    "def pig_latin(mot: str):\n",
    "    if mot[0] in \"AEIOUaeiou\":\n",
    "        print(mot+\"way\")\n",
    "    else:\n",
    "        print(mot[1:]+mot[0]+\"ay\")\n",
    "\n"
   ],
   "outputs": [],
   "execution_count": 29
  },
  {
   "metadata": {
    "ExecuteTime": {
     "end_time": "2025-07-24T00:39:23.001938Z",
     "start_time": "2025-07-24T00:39:23.000328Z"
    }
   },
   "cell_type": "code",
   "source": [
    "pig_latin(\"test\")\n",
    "pig_latin(\"allo\")"
   ],
   "id": "4e012d370291ed22",
   "outputs": [
    {
     "name": "stdout",
     "output_type": "stream",
     "text": [
      "esttay\n",
      "alloway\n"
     ]
    }
   ],
   "execution_count": 30
  },
  {
   "metadata": {},
   "cell_type": "markdown",
   "source": "# Beyond",
   "id": "5ea97820b8c8841d"
  },
  {
   "metadata": {
    "ExecuteTime": {
     "end_time": "2025-07-25T13:30:35.973921Z",
     "start_time": "2025-07-25T13:30:35.971210Z"
    }
   },
   "cell_type": "code",
   "source": [
    "# Si le mot d'origine se termine par une ponctuation, le mot de sortie se termine par la même ponctuation.\n",
    "\n",
    "def pig_latin_ponctuation(mot: str):\n",
    "    ponctuation = ''\n",
    "    if mot[-1] in \",.;:!?\":\n",
    "        ponctuation = mot[-1]\n",
    "        mot = mot[:-1]\n",
    "    if mot[0] in \"AEIOUaeiou\":\n",
    "        print(mot+\"way\"+ponctuation)\n",
    "    else:\n",
    "        print(mot[1:]+mot[0]+\"ay\"+ponctuation)\n"
   ],
   "id": "7d8ab70c2a61ceae",
   "outputs": [],
   "execution_count": 1
  },
  {
   "metadata": {
    "ExecuteTime": {
     "end_time": "2025-07-25T13:31:10.563651Z",
     "start_time": "2025-07-25T13:31:10.561878Z"
    }
   },
   "cell_type": "code",
   "source": [
    "pig_latin_ponctuation(\"test!\")\n",
    "pig_latin_ponctuation(\"allo!\")"
   ],
   "id": "d273b0aebc2caf58",
   "outputs": [
    {
     "name": "stdout",
     "output_type": "stream",
     "text": [
      "esttay!\n",
      "alloway!\n"
     ]
    }
   ],
   "execution_count": 5
  },
  {
   "metadata": {},
   "cell_type": "code",
   "outputs": [],
   "execution_count": null,
   "source": "",
   "id": "8cd46341a39ca98"
  }
 ],
 "metadata": {
  "kernelspec": {
   "display_name": "Python 3",
   "language": "python",
   "name": "python3"
  },
  "language_info": {
   "codemirror_mode": {
    "name": "ipython",
    "version": 2
   },
   "file_extension": ".py",
   "mimetype": "text/x-python",
   "name": "python",
   "nbconvert_exporter": "python",
   "pygments_lexer": "ipython2",
   "version": "2.7.6"
  }
 },
 "nbformat": 4,
 "nbformat_minor": 5
}
