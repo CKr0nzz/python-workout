{
 "cells": [
  {
   "cell_type": "code",
   "id": "initial_id",
   "metadata": {
    "collapsed": true,
    "ExecuteTime": {
     "end_time": "2025-07-24T00:39:22.640523Z",
     "start_time": "2025-07-24T00:39:22.638802Z"
    }
   },
   "source": [
    "def pig_latin(mot: str):\n",
    "    if mot[0] in \"AEIOUaeiou\":\n",
    "        print(mot+\"way\")\n",
    "    else:\n",
    "        print(mot[1:]+mot[0]+\"ay\")\n",
    "\n"
   ],
   "outputs": [],
   "execution_count": 29
  },
  {
   "metadata": {
    "ExecuteTime": {
     "end_time": "2025-07-24T00:39:23.001938Z",
     "start_time": "2025-07-24T00:39:23.000328Z"
    }
   },
   "cell_type": "code",
   "source": [
    "pig_latin(\"test\")\n",
    "pig_latin(\"allo\")"
   ],
   "id": "4e012d370291ed22",
   "outputs": [
    {
     "name": "stdout",
     "output_type": "stream",
     "text": [
      "esttay\n",
      "alloway\n"
     ]
    }
   ],
   "execution_count": 30
  },
  {
   "metadata": {
    "ExecuteTime": {
     "end_time": "2025-07-24T00:37:18.125630Z",
     "start_time": "2025-07-24T00:37:18.124286Z"
    }
   },
   "cell_type": "code",
   "source": "",
   "id": "7d8ab70c2a61ceae",
   "outputs": [],
   "execution_count": null
  },
  {
   "metadata": {},
   "cell_type": "code",
   "outputs": [],
   "execution_count": null,
   "source": "",
   "id": "d273b0aebc2caf58"
  }
 ],
 "metadata": {
  "kernelspec": {
   "display_name": "Python 3",
   "language": "python",
   "name": "python3"
  },
  "language_info": {
   "codemirror_mode": {
    "name": "ipython",
    "version": 2
   },
   "file_extension": ".py",
   "mimetype": "text/x-python",
   "name": "python",
   "nbconvert_exporter": "python",
   "pygments_lexer": "ipython2",
   "version": "2.7.6"
  }
 },
 "nbformat": 4,
 "nbformat_minor": 5
}
