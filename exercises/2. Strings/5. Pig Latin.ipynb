{
 "cells": [
  {
   "cell_type": "code",
   "id": "initial_id",
   "metadata": {
    "collapsed": true,
    "ExecuteTime": {
     "end_time": "2025-07-24T00:39:22.640523Z",
     "start_time": "2025-07-24T00:39:22.638802Z"
    }
   },
   "source": [
    "# If the word begins with a vowel (a, e, i, o, or u), add “way” to the end of the\n",
    "# word. So “air” becomes “airway” and “eat” becomes “eatway.”\n",
    "#  If the word begins with any other letter, then we take the first letter, put it on\n",
    "# the end of the word, and then add “ay.” Thus, “python” becomes “ythonpay”\n",
    "# and “computer” becomes “omputercay.”\n",
    "\n",
    "\n",
    "def pig_latin(mot: str):\n",
    "    if mot[0] in \"AEIOUaeiou\":\n",
    "        print(mot+\"way\")\n",
    "    else:\n",
    "        print(mot[1:]+mot[0]+\"ay\")\n",
    "\n"
   ],
   "outputs": [],
   "execution_count": 29
  },
  {
   "metadata": {
    "ExecuteTime": {
     "end_time": "2025-07-24T00:39:23.001938Z",
     "start_time": "2025-07-24T00:39:23.000328Z"
    }
   },
   "cell_type": "code",
   "source": [
    "pig_latin(\"test\")\n",
    "pig_latin(\"allo\")"
   ],
   "id": "4e012d370291ed22",
   "outputs": [
    {
     "name": "stdout",
     "output_type": "stream",
     "text": [
      "esttay\n",
      "alloway\n"
     ]
    }
   ],
   "execution_count": 30
  },
  {
   "metadata": {},
   "cell_type": "markdown",
   "source": "# Beyond",
   "id": "5ea97820b8c8841d"
  },
  {
   "metadata": {
    "ExecuteTime": {
     "end_time": "2025-07-25T13:30:35.973921Z",
     "start_time": "2025-07-25T13:30:35.971210Z"
    }
   },
   "cell_type": "code",
   "source": [
    "# Handle punctuation—If a word ends with punctuation, then that punctuation\n",
    "# should be shifted to the end of the translated word.\n",
    "\n",
    "def pig_latin_ponctuation(mot: str):\n",
    "    ponctuation = ''\n",
    "    if mot[-1] in \",.;:!?\":\n",
    "        ponctuation = mot[-1]\n",
    "        mot = mot[:-1]\n",
    "    if mot[0] in \"AEIOUaeiou\":\n",
    "        print(mot+\"way\"+ponctuation)\n",
    "    else:\n",
    "        print(mot[1:]+mot[0]+\"ay\"+ponctuation)\n"
   ],
   "id": "7d8ab70c2a61ceae",
   "outputs": [],
   "execution_count": 1
  },
  {
   "metadata": {
    "ExecuteTime": {
     "end_time": "2025-07-25T13:31:10.563651Z",
     "start_time": "2025-07-25T13:31:10.561878Z"
    }
   },
   "cell_type": "code",
   "source": [
    "pig_latin_ponctuation(\"test!\")\n",
    "pig_latin_ponctuation(\"allo!\")"
   ],
   "id": "d273b0aebc2caf58",
   "outputs": [
    {
     "name": "stdout",
     "output_type": "stream",
     "text": [
      "esttay!\n",
      "alloway!\n"
     ]
    }
   ],
   "execution_count": 5
  },
  {
   "metadata": {
    "ExecuteTime": {
     "end_time": "2025-07-28T02:25:45.741362Z",
     "start_time": "2025-07-28T02:25:45.739096Z"
    }
   },
   "cell_type": "code",
   "source": [
    "# Consider an alternative version of Pig Latin—We don’t check to see if the first letter\n",
    "# is a vowel, but, rather, we check to see if the word contains two different vowels.\n",
    "# If it does, we don’t move the first letter to the end. Because the word “wine”\n",
    "# contains two different vowels (“i” and “e”), we’ll add “way” to the end of it, giv-\n",
    "# ing us “wineway.” By contrast, the word “wind” contains only one vowel, so we\n",
    "# would move the first letter to the end and add “ay,” rendering it “indway.” How\n",
    "# would you check for two different vowels in the word? (Hint: sets can come in\n",
    "# handy here.)\n",
    "\n",
    "\n",
    "def pig_latin_alt(mot: str):\n",
    "    compteur = 0\n",
    "    # Les recherches \"in\" et suppressions \"discard\" dans un set sont plus rapides O(1) au lieu du O(n) d'une liste\n",
    "    voyelles = set(\"AEIOUaeiou\")\n",
    "    voyelles_found = set()\n",
    "    for char in mot:\n",
    "        if char in voyelles:\n",
    "            voyelles_found.add(char.lower())\n",
    "            voyelles_found.add(char.upper())\n",
    "    if len(voyelles_found) >= 4: # On utilise 4 car cela prend en compte les majuscules/minuscules\n",
    "        return f\"{mot}way\"\n",
    "    else:\n",
    "        return mot[1:]+mot[0]+\"ay\"\n",
    "\n",
    "\n",
    "\n",
    "\n",
    "\n",
    "\n",
    "\n",
    "\n",
    "\n"
   ],
   "id": "8cd46341a39ca98",
   "outputs": [],
   "execution_count": 7
  },
  {
   "metadata": {
    "ExecuteTime": {
     "end_time": "2025-07-28T02:25:51.797065Z",
     "start_time": "2025-07-28T02:25:51.795299Z"
    }
   },
   "cell_type": "code",
   "source": "pig_latin_alt(\"test\")\n",
   "id": "d33a61d0eb39e60",
   "outputs": [
    {
     "data": {
      "text/plain": [
       "'esttay'"
      ]
     },
     "execution_count": 10,
     "metadata": {},
     "output_type": "execute_result"
    }
   ],
   "execution_count": 10
  },
  {
   "metadata": {
    "ExecuteTime": {
     "end_time": "2025-07-28T02:25:49.168207Z",
     "start_time": "2025-07-28T02:25:49.166127Z"
    }
   },
   "cell_type": "code",
   "source": "pig_latin_alt(\"allo\")",
   "id": "af5e167096cadf9",
   "outputs": [
    {
     "data": {
      "text/plain": [
       "'alloway'"
      ]
     },
     "execution_count": 9,
     "metadata": {},
     "output_type": "execute_result"
    }
   ],
   "execution_count": 9
  },
  {
   "metadata": {
    "ExecuteTime": {
     "end_time": "2025-07-28T02:26:08.688482Z",
     "start_time": "2025-07-28T02:26:08.686667Z"
    }
   },
   "cell_type": "code",
   "source": "pig_latin_alt(\"Aa\")",
   "id": "5a9cbf7a88d75b59",
   "outputs": [
    {
     "data": {
      "text/plain": [
       "'aAay'"
      ]
     },
     "execution_count": 11,
     "metadata": {},
     "output_type": "execute_result"
    }
   ],
   "execution_count": 11
  },
  {
   "metadata": {},
   "cell_type": "markdown",
   "source": [
    "# Notes\n",
    "Je remarque que la solution proposée est beaucoup plus élégante et \"pythonique\" que celle que j'ai programmée.\n",
    "\n",
    "1. & : opérateur d’intersection -> garde seulement les voyelles présentes dans word\n",
    "2. len(...) : compte combien de voyelles différentes sont présentes\n",
    "3. J'ai toutefois optimisé la solution du livre avec un word.lower() pour éviter la casse\n",
    "\n",
    "On apprend tous les jours !"
   ],
   "id": "c7a9720307952470"
  },
  {
   "metadata": {
    "ExecuteTime": {
     "end_time": "2025-07-28T02:33:50.757114Z",
     "start_time": "2025-07-28T02:33:50.755322Z"
    }
   },
   "cell_type": "code",
   "source": [
    "def pig_latin_multivowels(word):\n",
    "    number_of_vowels = len(set(word.lower()) & set('aeiou'))\n",
    "    if number_of_vowels > 1:\n",
    "        return f'{word}way'\n",
    "\n",
    "    return f'{word[1:]}{word[0]}ay'"
   ],
   "id": "bf5afb7788114406",
   "outputs": [],
   "execution_count": 12
  },
  {
   "metadata": {
    "ExecuteTime": {
     "end_time": "2025-07-28T02:34:01.173914Z",
     "start_time": "2025-07-28T02:34:01.171903Z"
    }
   },
   "cell_type": "code",
   "source": "pig_latin_multivowels(\"test\")",
   "id": "5e8721a93958a334",
   "outputs": [
    {
     "data": {
      "text/plain": [
       "'esttay'"
      ]
     },
     "execution_count": 13,
     "metadata": {},
     "output_type": "execute_result"
    }
   ],
   "execution_count": 13
  },
  {
   "metadata": {
    "ExecuteTime": {
     "end_time": "2025-07-28T02:34:08.381726Z",
     "start_time": "2025-07-28T02:34:08.379695Z"
    }
   },
   "cell_type": "code",
   "source": "pig_latin_multivowels(\"Aa\")",
   "id": "82dcacb0dd029a22",
   "outputs": [
    {
     "data": {
      "text/plain": [
       "'aAay'"
      ]
     },
     "execution_count": 14,
     "metadata": {},
     "output_type": "execute_result"
    }
   ],
   "execution_count": 14
  },
  {
   "metadata": {
    "ExecuteTime": {
     "end_time": "2025-07-28T02:34:25.859260Z",
     "start_time": "2025-07-28T02:34:25.857333Z"
    }
   },
   "cell_type": "code",
   "source": "pig_latin_multivowels(\"Allo\")",
   "id": "ee25ae189b8fd8b8",
   "outputs": [
    {
     "data": {
      "text/plain": [
       "'Alloway'"
      ]
     },
     "execution_count": 17,
     "metadata": {},
     "output_type": "execute_result"
    }
   ],
   "execution_count": 17
  },
  {
   "metadata": {},
   "cell_type": "code",
   "outputs": [],
   "execution_count": null,
   "source": "",
   "id": "a02572fd7fd6f671"
  }
 ],
 "metadata": {
  "kernelspec": {
   "display_name": "Python 3",
   "language": "python",
   "name": "python3"
  },
  "language_info": {
   "codemirror_mode": {
    "name": "ipython",
    "version": 2
   },
   "file_extension": ".py",
   "mimetype": "text/x-python",
   "name": "python",
   "nbconvert_exporter": "python",
   "pygments_lexer": "ipython2",
   "version": "2.7.6"
  }
 },
 "nbformat": 4,
 "nbformat_minor": 5
}
