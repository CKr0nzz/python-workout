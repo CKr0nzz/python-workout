{
 "cells": [
  {
   "cell_type": "code",
   "id": "initial_id",
   "metadata": {
    "collapsed": true,
    "ExecuteTime": {
     "end_time": "2025-08-04T00:28:06.333070Z",
     "start_time": "2025-08-04T00:28:06.331240Z"
    }
   },
   "source": [
    "# In Ubbi Dubbi, every vowel (a, e, i, o, or u) is prefaced with ub. Thus milk becomes\n",
    "# mubilk (m-ub-ilk) and program becomes prubogrubam (prub-ogrub-am).\n",
    "\n",
    "def ubbi_dubbi(word: str) -> str:\n",
    "    ubbi_dubbi = []\n",
    "    for letter in word:\n",
    "        if letter in 'aeiou':\n",
    "            ubbi_dubbi.append(f'ub{letter}')\n",
    "        else:\n",
    "            ubbi_dubbi.append(letter)\n",
    "    return ''.join(ubbi_dubbi)\n",
    "\n",
    "\n"
   ],
   "outputs": [],
   "execution_count": 11
  },
  {
   "metadata": {
    "ExecuteTime": {
     "end_time": "2025-08-04T00:29:01.529942Z",
     "start_time": "2025-08-04T00:29:01.527780Z"
    }
   },
   "cell_type": "code",
   "source": "ubbi_dubbi('milk')",
   "id": "297e8d9998e94c6c",
   "outputs": [
    {
     "data": {
      "text/plain": [
       "'mubilk'"
      ]
     },
     "execution_count": 16,
     "metadata": {},
     "output_type": "execute_result"
    }
   ],
   "execution_count": 16
  },
  {
   "metadata": {
    "ExecuteTime": {
     "end_time": "2025-08-04T00:29:02.080443Z",
     "start_time": "2025-08-04T00:29:02.078390Z"
    }
   },
   "cell_type": "code",
   "source": "ubbi_dubbi('program')",
   "id": "ef81fd675cfba59e",
   "outputs": [
    {
     "data": {
      "text/plain": [
       "'prubogrubam'"
      ]
     },
     "execution_count": 17,
     "metadata": {},
     "output_type": "execute_result"
    }
   ],
   "execution_count": 17
  },
  {
   "metadata": {},
   "cell_type": "markdown",
   "source": [
    "# Notes\n",
    "Il est préférable d'utiliser une liste (mutable), car les chaînes sont immuables (+= string crée une nouvelle chaine de caractère à chaque fois)"
   ],
   "id": "36ee90516bba818a"
  },
  {
   "metadata": {
    "ExecuteTime": {
     "end_time": "2025-08-03T00:48:53.430699Z",
     "start_time": "2025-08-03T00:48:53.428264Z"
    }
   },
   "cell_type": "code",
   "source": [
    "import time\n",
    "\n",
    "# Version concaténation directe\n",
    "start = time.time()\n",
    "s = ''\n",
    "for i in range(1000):  # ajuste selon la précision voulue\n",
    "    s += 'a'\n",
    "direct_time = time.time() - start\n",
    "print(f\"Concaténation directe: {direct_time:.10f} secondes\")\n",
    "\n",
    "# Version liste + join\n",
    "start = time.time()\n",
    "lst = []\n",
    "for i in range(1000):\n",
    "    lst.append('a')\n",
    "s = ''.join(lst)\n",
    "list_time = time.time() - start\n",
    "print(f\"Liste + join:         {list_time:.10f} secondes\")\n",
    "\n",
    "# Comparaison\n",
    "if direct_time > list_time:\n",
    "    speedup = direct_time / list_time\n",
    "    print(f\"\\nListe + join est {speedup:.2f}x plus rapide.\")\n",
    "else:\n",
    "    speedup = list_time / direct_time\n",
    "    print(f\"\\nConcaténation directe est {speedup:.2f}x plus rapide (cas rare).\")"
   ],
   "id": "f06bb5971610afff",
   "outputs": [
    {
     "name": "stdout",
     "output_type": "stream",
     "text": [
      "Concaténation directe: 0.0000815392 secondes\n",
      "Liste + join:         0.0000493526 secondes\n",
      "\n",
      "Liste + join est 1.65x plus rapide.\n"
     ]
    }
   ],
   "execution_count": 32
  },
  {
   "metadata": {
    "ExecuteTime": {
     "end_time": "2025-08-04T00:30:34.226893Z",
     "start_time": "2025-08-04T00:30:34.224887Z"
    }
   },
   "cell_type": "code",
   "source": [
    "# If a word is capitalized (i.e., the first letter is capital-\n",
    "# ized, but the rest of the word isn’t), then the Ubbi Dubbi translation should be\n",
    "# similarly capitalized.\n",
    "\n",
    "def capitalized_word(word: str) -> str:\n",
    "    ubbi_dubbi_capitalized = []\n",
    "    for letter in word:\n",
    "        if letter in 'aeiouAEIOU':\n",
    "            ubbi_dubbi_capitalized.append(f'ub{letter}')\n",
    "        else:\n",
    "            ubbi_dubbi_capitalized.append(letter)\n",
    "\n",
    "    if word[0].isupper():\n",
    "        ubbi_dubbi_capitalized[0] = ubbi_dubbi_capitalized[0].capitalize()\n",
    "\n",
    "    return ''.join(ubbi_dubbi_capitalized)\n"
   ],
   "id": "b13d54c1e4a63399",
   "outputs": [],
   "execution_count": 18
  },
  {
   "metadata": {
    "ExecuteTime": {
     "end_time": "2025-08-04T00:30:38.436209Z",
     "start_time": "2025-08-04T00:30:38.434377Z"
    }
   },
   "cell_type": "code",
   "source": "capitalized_word(\"Illinois\")",
   "id": "708d8e2504dfcce2",
   "outputs": [
    {
     "data": {
      "text/plain": [
       "'Ubillubinuboubis'"
      ]
     },
     "execution_count": 19,
     "metadata": {},
     "output_type": "execute_result"
    }
   ],
   "execution_count": 19
  },
  {
   "metadata": {
    "ExecuteTime": {
     "end_time": "2025-08-05T02:09:33.951964Z",
     "start_time": "2025-08-05T02:09:33.949924Z"
    }
   },
   "cell_type": "code",
   "source": [
    "# Remove author names—In academia, it’s common to remove the authors’ names\n",
    "# from a paper submitted for peer review. Given a string containing an article and\n",
    "# a separate list of strings containing authors’ names, replace all names in the\n",
    "# article with _ characters.\n",
    "\n",
    "\n",
    "def remove_names(filename, name):\n",
    "    with open(filename, 'r') as f:\n",
    "        text = f.read()\n",
    "\n",
    "    words = text.split()\n",
    "    for i, word in enumerate(words):\n",
    "        if name in word:\n",
    "            words[i] = word.replace(name, '_'*len(name))\n",
    "    return ' '.join(words)\n"
   ],
   "id": "4f6d39c4e7d6e356",
   "outputs": [],
   "execution_count": 35
  },
  {
   "metadata": {
    "ExecuteTime": {
     "end_time": "2025-08-05T02:09:34.567672Z",
     "start_time": "2025-08-05T02:09:34.565993Z"
    }
   },
   "cell_type": "code",
   "source": "remove_names('6. random_text_100_words.txt', \"Splitting\")",
   "id": "ce449b10d5b7c0ae",
   "outputs": [
    {
     "data": {
      "text/plain": [
       "'_________, joining, and manipulating strings are common actions in Python. Here are some additional activities you can try to push yourself even further: Take a text file, creating (and printing) a nonsensical sentence from the nth word on each of the first 10 lines, where n is the line number. _________, joining, and manipulating strings are common actions in Python. Here are some additional activities you can try to push yourself even further: Take a text file, creating (and printing) a nonsensical sentence from the nth word on each of the first 10 lines, where n is the line number. _________, joining, and manipulating strings are common actions in Python. Here are some additional activities you can try to push yourself even further: Take a text file, creating (and printing) a nonsensical sentence from the nth word on each of the first 10 lines, where n is the line number. _________, joining, and manipulating strings are common actions in Python. Here are some additional activities you can try to push yourself even further: Take a text file, creating (and printing) a nonsensical sentence from the nth word on each of the first 10 lines, where n is the line number. _________, joining, and manipulating strings are common actions in Python. Here are some additional activities you can try to push yourself even further: Take a text file, creating (and printing) a nonsensical sentence from the nth word on each of the first 10 lines, where n is the line number. _________, joining, and manipulating strings are common actions in Python. Here are some additional activities you can try to push yourself even further: Take a text file, creating (and printing) a nonsensical sentence from the nth word on each of the first 10 lines, where n is the line number.'"
      ]
     },
     "execution_count": 36,
     "metadata": {},
     "output_type": "execute_result"
    }
   ],
   "execution_count": 36
  },
  {
   "metadata": {},
   "cell_type": "markdown",
   "source": [
    "# Notes\n",
    "\n",
    "Il est possible d'utiliser le module \"re\", à tester demain."
   ],
   "id": "d97c74dceb713236"
  }
 ],
 "metadata": {
  "kernelspec": {
   "display_name": "Python 3",
   "language": "python",
   "name": "python3"
  },
  "language_info": {
   "codemirror_mode": {
    "name": "ipython",
    "version": 2
   },
   "file_extension": ".py",
   "mimetype": "text/x-python",
   "name": "python",
   "nbconvert_exporter": "python",
   "pygments_lexer": "ipython2",
   "version": "2.7.6"
  }
 },
 "nbformat": 4,
 "nbformat_minor": 5
}
