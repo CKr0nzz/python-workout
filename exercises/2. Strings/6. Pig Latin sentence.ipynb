{
 "cells": [
  {
   "cell_type": "code",
   "id": "initial_id",
   "metadata": {
    "collapsed": true,
    "ExecuteTime": {
     "end_time": "2025-07-29T23:17:32.336927Z",
     "start_time": "2025-07-29T23:17:32.334802Z"
    }
   },
   "source": [
    "# pl_sentence takes a string containing several words, separated by spaces. Same rules as pig latin\n",
    "\n",
    "def pl_sentence(phrase: str):\n",
    "    split_sentence = phrase.split()\n",
    "    new_sentence = []\n",
    "    for word in split_sentence:\n",
    "        if word[0] in \"AEIOUaeiou\":\n",
    "            new_sentence.append(word+\"way\")\n",
    "        else:\n",
    "            new_sentence.append(word[1:]+word[0]+\"ay\")\n",
    "\n",
    "    return ' '.join(new_sentence)\n",
    "\n"
   ],
   "outputs": [],
   "execution_count": 5
  },
  {
   "metadata": {
    "ExecuteTime": {
     "end_time": "2025-07-29T23:17:51.274504Z",
     "start_time": "2025-07-29T23:17:51.272422Z"
    }
   },
   "cell_type": "code",
   "source": "pl_sentence(\"this is a test translation\")",
   "id": "cd4c441ffdd23f42",
   "outputs": [
    {
     "data": {
      "text/plain": [
       "'histay isway away esttay ranslationtay'"
      ]
     },
     "execution_count": 7,
     "metadata": {},
     "output_type": "execute_result"
    }
   ],
   "execution_count": 7
  },
  {
   "metadata": {},
   "cell_type": "markdown",
   "source": [
    "# Notes\n",
    "\n",
    "strings are immutable, and += on a string forces Python to create a new string so it's better to use list.append."
   ],
   "id": "f6cdf274e4324e89"
  }
 ],
 "metadata": {
  "kernelspec": {
   "display_name": "Python 3",
   "language": "python",
   "name": "python3"
  },
  "language_info": {
   "codemirror_mode": {
    "name": "ipython",
    "version": 2
   },
   "file_extension": ".py",
   "mimetype": "text/x-python",
   "name": "python",
   "nbconvert_exporter": "python",
   "pygments_lexer": "ipython2",
   "version": "2.7.6"
  }
 },
 "nbformat": 4,
 "nbformat_minor": 5
}
