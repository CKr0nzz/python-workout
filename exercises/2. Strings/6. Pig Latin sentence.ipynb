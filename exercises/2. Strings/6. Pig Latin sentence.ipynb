{
 "cells": [
  {
   "cell_type": "code",
   "id": "initial_id",
   "metadata": {
    "collapsed": true,
    "ExecuteTime": {
     "end_time": "2025-08-01T00:22:21.232346Z",
     "start_time": "2025-08-01T00:22:20.940865Z"
    }
   },
   "source": [
    "from scipy.linalg.cython_blas import snrm2\n",
    "\n",
    "\n",
    "# pl_sentence takes a string containing several words, separated by spaces. Same rules as pig latin\n",
    "\n",
    "def pl_sentence(phrase: str):\n",
    "    split_sentence = phrase.split()\n",
    "    new_sentence = []\n",
    "    for word in split_sentence:\n",
    "        if word[0] in \"AEIOUaeiou\":\n",
    "            new_sentence.append(word+\"way\")\n",
    "        else:\n",
    "            new_sentence.append(word[1:]+word[0]+\"ay\")\n",
    "\n",
    "    return ' '.join(new_sentence)\n",
    "\n"
   ],
   "outputs": [
    {
     "ename": "ImportError",
     "evalue": "cannot import name 'snrm2' from 'scipy.linalg.cython_blas' (/home/colin/miniconda3/envs/eeg/lib/python3.11/site-packages/scipy/linalg/cython_blas.cpython-311-x86_64-linux-gnu.so)",
     "output_type": "error",
     "traceback": [
      "\u001B[31m---------------------------------------------------------------------------\u001B[39m",
      "\u001B[31mImportError\u001B[39m                               Traceback (most recent call last)",
      "\u001B[36mCell\u001B[39m\u001B[36m \u001B[39m\u001B[32mIn[7]\u001B[39m\u001B[32m, line 1\u001B[39m\n\u001B[32m----> \u001B[39m\u001B[32m1\u001B[39m \u001B[38;5;28;01mfrom\u001B[39;00m\u001B[38;5;250m \u001B[39m\u001B[34;01mscipy\u001B[39;00m\u001B[34;01m.\u001B[39;00m\u001B[34;01mlinalg\u001B[39;00m\u001B[34;01m.\u001B[39;00m\u001B[34;01mcython_blas\u001B[39;00m\u001B[38;5;250m \u001B[39m\u001B[38;5;28;01mimport\u001B[39;00m snrm2\n\u001B[32m      4\u001B[39m \u001B[38;5;66;03m# pl_sentence takes a string containing several words, separated by spaces. Same rules as pig latin\u001B[39;00m\n\u001B[32m      6\u001B[39m \u001B[38;5;28;01mdef\u001B[39;00m\u001B[38;5;250m \u001B[39m\u001B[34mpl_sentence\u001B[39m(phrase: \u001B[38;5;28mstr\u001B[39m):\n",
      "\u001B[31mImportError\u001B[39m: cannot import name 'snrm2' from 'scipy.linalg.cython_blas' (/home/colin/miniconda3/envs/eeg/lib/python3.11/site-packages/scipy/linalg/cython_blas.cpython-311-x86_64-linux-gnu.so)"
     ]
    }
   ],
   "execution_count": 7
  },
  {
   "metadata": {
    "ExecuteTime": {
     "end_time": "2025-08-01T00:22:21.236577593Z",
     "start_time": "2025-07-29T23:17:51.272422Z"
    }
   },
   "cell_type": "code",
   "source": "pl_sentence(\"this is a test translation\")",
   "id": "cd4c441ffdd23f42",
   "outputs": [
    {
     "data": {
      "text/plain": [
       "'histay isway away esttay ranslationtay'"
      ]
     },
     "execution_count": 7,
     "metadata": {},
     "output_type": "execute_result"
    }
   ],
   "execution_count": 7
  },
  {
   "metadata": {},
   "cell_type": "markdown",
   "source": [
    "# Notes\n",
    "\n",
    "strings are immutable, and += on a string forces Python to create a new string so it's better to use list.append."
   ],
   "id": "f6cdf274e4324e89"
  },
  {
   "metadata": {
    "ExecuteTime": {
     "end_time": "2025-08-01T00:22:21.237038382Z",
     "start_time": "2025-07-31T00:32:32.050231Z"
    }
   },
   "cell_type": "code",
   "source": [
    "def nonsensical_sentence(filename):\n",
    "    new_sentence = []\n",
    "    with open(filename, \"r\") as f:\n",
    "        for i, line in enumerate(f):\n",
    "            if i < 10:\n",
    "                sentence = line.split()\n",
    "                new_sentence.append(sentence[i])\n",
    "        return ' '.join(new_sentence)\n",
    "\n",
    "# Possibilité de rendre le code plus robuste en gérant les exceptions de lignes vides et/ou lignes plus courtes que i.\n",
    "\n",
    "\n",
    "\n",
    "\n",
    "\n",
    "\n",
    "\n",
    "\n"
   ],
   "id": "d452f86446fd8e86",
   "outputs": [],
   "execution_count": 11
  },
  {
   "metadata": {},
   "cell_type": "markdown",
   "source": [
    "# Notes\n",
    "\n",
    "Python lit le fichier ligne par ligne, car un objet fichier est un itérable ligne par ligne. C’est un comportement intégré dans le langage."
   ],
   "id": "d557f79832ee5863"
  },
  {
   "metadata": {
    "ExecuteTime": {
     "end_time": "2025-08-01T00:22:21.237418920Z",
     "start_time": "2025-07-31T00:32:32.859257Z"
    }
   },
   "cell_type": "code",
   "source": "nonsensical_sentence(\"6. random_text_100_words.txt\")",
   "id": "7d7fdeeff80f88bc",
   "outputs": [
    {
     "data": {
      "text/plain": [
       "'Splitting, additional text of strings try printing) lines, in even'"
      ]
     },
     "execution_count": 12,
     "metadata": {},
     "output_type": "execute_result"
    }
   ],
   "execution_count": 12
  },
  {
   "metadata": {
    "ExecuteTime": {
     "end_time": "2025-08-01T00:22:21.239557976Z",
     "start_time": "2025-08-01T00:00:09.808369Z"
    }
   },
   "cell_type": "code",
   "source": [
    "# Write a function that transposes a list of strings, in which each string contains\n",
    "# multiple words separated by whitespace. Specifically, it should perform in such a\n",
    "# way that if you were to pass the list ['abc def ghi', 'jkl mno pqr', 'stu vwx yz']\n",
    "# to the function, it would return ['abc jkl stu', 'def mno vwx', 'ghi pqr yz'].\n",
    "\n",
    "def transpose_sentence(sentences: list[str]) -> list[str]:\n",
    "    # Découper chaque string de la liste en liste de mots\n",
    "    split_sentences = [s.split() for s in sentences]\n",
    "     # Transposer les mots avec zip et les reconstituer en chaînes\n",
    "    transposed = [' '.join(words) for words in zip(*split_sentences)]\n",
    "    return transposed\n",
    "\n",
    "\n",
    "\n",
    "\n",
    "\n",
    "\n",
    "\n",
    "\n"
   ],
   "id": "723c738a0da5cff5",
   "outputs": [],
   "execution_count": 1
  },
  {
   "metadata": {
    "ExecuteTime": {
     "end_time": "2025-08-01T00:22:21.239825180Z",
     "start_time": "2025-08-01T00:00:09.862924Z"
    }
   },
   "cell_type": "code",
   "source": "transpose_sentence(['abc def ghi', 'jkl mno pqr', 'stu vwx yz'])",
   "id": "e1f3fe3277afb9fc",
   "outputs": [
    {
     "data": {
      "text/plain": [
       "['abc jkl stu', 'def mno vwx', 'ghi pqr yz']"
      ]
     },
     "execution_count": 2,
     "metadata": {},
     "output_type": "execute_result"
    }
   ],
   "execution_count": 2
  },
  {
   "metadata": {},
   "cell_type": "markdown",
   "source": [
    "# Notes\n",
    "\n",
    "1. L'opérateur *, ou  \"splat\", décompresse une séquence et la transmet à une fonction sous forme de valeurs individuelles.\n",
    "**ex:**\n",
    "a = [1, 2, 3]\n",
    "print(*a) --> print(1, 2, 3)\n",
    "\n",
    "2. On utilise split_sentences = [s.split() for s in sentences] (list de compréhension) comme syntaxe rapide pour créer une liste à partir d'éléments d'une autre liste.\n",
    "\n",
    "3. La fonction zip() renvoie un objet zip, qui est un itérateur de tuples où le premier élément de chaque itérateur passé est associé, puis le deuxième élément de chaque itérateur passé est associé, etc.\n",
    "**ex:**\n",
    "a = (\"John\", \"Charles\", \"Mike\")\n",
    "b = (\"Jenny\", \"Christy\", \"Monica\")\n",
    "\n",
    "x = zip(a, b) --> (('John', 'Jenny'), ('Charles', 'Christy'), ('Mike', 'Monica'))"
   ],
   "id": "ebf1443ef5c2ebdf"
  },
  {
   "metadata": {},
   "cell_type": "code",
   "outputs": [],
   "execution_count": null,
   "source": "",
   "id": "56b962ff189a473"
  }
 ],
 "metadata": {
  "kernelspec": {
   "display_name": "Python 3",
   "language": "python",
   "name": "python3"
  },
  "language_info": {
   "codemirror_mode": {
    "name": "ipython",
    "version": 2
   },
   "file_extension": ".py",
   "mimetype": "text/x-python",
   "name": "python",
   "nbconvert_exporter": "python",
   "pygments_lexer": "ipython2",
   "version": "2.7.6"
  }
 },
 "nbformat": 4,
 "nbformat_minor": 5
}
